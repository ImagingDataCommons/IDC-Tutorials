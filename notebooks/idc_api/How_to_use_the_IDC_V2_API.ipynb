{
  "nbformat": 4,
  "nbformat_minor": 0,
  "metadata": {
    "colab": {
      "provenance": [],
      "toc_visible": true,
      "include_colab_link": true
    },
    "kernelspec": {
      "name": "python3",
      "display_name": "Python 3"
    }
  },
  "cells": [
    {
      "cell_type": "markdown",
      "metadata": {
        "id": "view-in-github",
        "colab_type": "text"
      },
      "source": [
        "<a href=\"https://colab.research.google.com/github/ImagingDataCommons/IDC-Tutorials/blob/master-whc/notebooks/idc_api/How_to_use_the_IDC_V2_API.ipynb\" target=\"_parent\"><img src=\"https://colab.research.google.com/assets/colab-badge.svg\" alt=\"Open In Colab\"/></a>"
      ]
    },
    {
      "cell_type": "markdown",
      "metadata": {
        "id": "7r7hxORgipCk"
      },
      "source": [
        "# How to Use the IDC V2 API"
      ]
    },
    {
      "cell_type": "markdown",
      "metadata": {
        "id": "-R7dcBPHjB9b"
      },
      "source": [
        "## Overview of this notebook\n",
        "This notebook is designed as a quick introduction to version 2 of the IDC API and how to access it from Python.\n",
        "\n",
        "Topics covered:\n",
        "* Overviews of APIs, Swagger, JSON, endpoints\n",
        "* Use cases for IDC APIs\n",
        "* Examples of IDC API endpoints"
      ]
    },
    {
      "cell_type": "markdown",
      "metadata": {
        "id": "6BPfIN_KjVSP"
      },
      "source": [
        "### Overview of APIs\n",
        "An API or application-programming interface is a software intermediary that allows two applications to talk to each other. In other words, an API is the messenger that delivers your request to the provider that you’re requesting it from and then delivers the response back to you [(Wikipedia)](https://en.wikipedia.org/wiki/Application_programming_interface). Each action that an API can take is called an \"endpoint\".\n",
        "\n",
        "Some useful tutorials and quick start guides on APIs are:\n",
        "* [GDC's Getting Started guide for APIs](https://docs.gdc.cancer.gov/API/Users_Guide/Getting_Started/)\n",
        "* [API Integration in Python](https://realpython.com/api-integration-in-python/)\n",
        "* [Python API Tutorial: Getting Started with APIs](https://www.dataquest.io/blog/python-api-tutorial/)"
      ]
    },
    {
      "cell_type": "markdown",
      "metadata": {
        "id": "0pvtxR9piA8d"
      },
      "source": [
        "### What is an HTTP Message?\n",
        "\n",
        "Clients and the IDC API server communicate via HTTP messages. An overview of HTTP messaging can be found [here](https://developer.mozilla.org/en-US/docs/Web/HTTP/Messages).\n",
        "The IDC API uses the GET, POST and DELETE HTTP methods."
      ]
    },
    {
      "cell_type": "markdown",
      "metadata": {
        "id": "XwOE_7aXkIqD"
      },
      "source": [
        "### What is JSON?\n",
        "\n",
        "JSON  or JavaScript Object Notation is a lightweight data-interchange format that is easy for humans and machines to work with. More information can be found at [json.org](https://www.json.org/)."
      ]
    },
    {
      "cell_type": "markdown",
      "metadata": {
        "id": "xA89089NjvXG"
      },
      "source": [
        "### What is SwaggerUI?\n",
        "\n",
        "[SwaggerUI](https://swagger.io/tools/swagger-ui/) is a user interface that allows users to try out the APIs and view their documentation easily. You can access the IDC API SwaggerUI [here](https://api.imaging.datacommons.cancer.gov/v1/swagger)."
      ]
    },
    {
      "cell_type": "markdown",
      "metadata": {
        "id": "BKVdyqJIj3Vv"
      },
      "source": [
        "### What is an endpoint?\n",
        "\n",
        "An endpoint is the *call* for a specific functionally of an API. For example, `/collections` at the end of the API request URL `https://api.imaging.datacommons.cancer.gov/v2/collections` is an endpoint that returns (or GETs) information about the available IDC collections."
      ]
    },
    {
      "cell_type": "markdown",
      "metadata": {
        "id": "lUBjUmW0b4yM"
      },
      "source": [
        "###IDC API Documentation\n",
        "\n",
        "Detailed documentation on the IDC API can be found in the [API](https://learn.canceridc.dev/api/getting-started) section of the [IDC User Guide](https://learn.canceridc.dev/ps://)."
      ]
    },
    {
      "cell_type": "markdown",
      "metadata": {
        "id": "q2oDuqk-m_n9"
      },
      "source": [
        "### IDC API URL Preamble\n",
        "We define the IDC API URL preamble as a variable so that we can easily change it."
      ]
    },
    {
      "cell_type": "code",
      "metadata": {
        "id": "6YJby7wJnYE7"
      },
      "source": [
        "idc_api_preamble = 'https://api.imaging.datacommons.cancer.gov/v2'"
      ],
      "execution_count": null,
      "outputs": []
    },
    {
      "cell_type": "markdown",
      "metadata": {
        "id": "EwGFbzkqk--J"
      },
      "source": [
        "### Python library `requests`\n",
        "\n",
        "In this notebook, we use the Python Requests HTTP library to access IDC API endpoints."
      ]
    },
    {
      "cell_type": "code",
      "metadata": {
        "id": "TV37C4SrlHvD"
      },
      "source": [
        "# Install requests if needed\n",
        "# pip install requests\n",
        "\n",
        "# Import the requests library\n",
        "import requests"
      ],
      "execution_count": null,
      "outputs": []
    },
    {
      "cell_type": "markdown",
      "source": [
        "Finally, we will define a little pretty printing function and print out the information that we have received from the API."
      ],
      "metadata": {
        "id": "F8xdrUWPehzj"
      }
    },
    {
      "cell_type": "code",
      "metadata": {
        "id": "VdfTOEQeouiL"
      },
      "source": [
        "# import json\n",
        "import json\n",
        "def pretty(response):\n",
        "  print(json.dumps(response.json(), sort_keys=True, indent=4))\n"
      ],
      "execution_count": null,
      "outputs": []
    },
    {
      "cell_type": "markdown",
      "metadata": {
        "id": "AcCF8X0mlLup"
      },
      "source": [
        "## Use cases for IDC APIs\n",
        "\n",
        "The IDC APIs can be used for a number of different tasks for interacting with the Google Cloud Platform and BigQuery. It can be used to subset data into cohorts or to access cohorts that have been created using the IDC WebApp. The location of the DICOM objects associated with a cohort can be obtained."
      ]
    },
    {
      "cell_type": "markdown",
      "metadata": {
        "id": "uCce3LIXmGgc"
      },
      "source": [
        "## Example: `/about` GET Endpoint\n",
        "\n"
      ]
    },
    {
      "cell_type": "markdown",
      "metadata": {
        "id": "kbA3GWUSmPlr"
      },
      "source": [
        "We are first going to explore the `about` endpoint using the 'GET' request to the API. This API will give you such information about the IDC API as links to the Swagger UI interface and to the IDC User Guide."
      ]
    },
    {
      "cell_type": "code",
      "metadata": {
        "id": "C3Ixom20mVrh"
      },
      "source": [
        "# First submit the 'get' request to the API\n",
        "response = requests.get('{}/about'.format(idc_api_preamble))"
      ],
      "execution_count": null,
      "outputs": []
    },
    {
      "cell_type": "markdown",
      "metadata": {
        "id": "UicHIX71kLw3"
      },
      "source": [
        "Now that we have the request response, we are going to check that we didn't receive an error code or if the request was successful. If the request was successful, then the status code will come back as 200 but if something went wrong then the status code may be something 404 or 503. If you have recieved any error codes, you can check out Google's Troubleshooting response errors guide.\n",
        "\n"
      ]
    },
    {
      "cell_type": "code",
      "metadata": {
        "id": "3UORb5Pqoh0I"
      },
      "source": [
        "# Check that there wasn't an error with the request\n",
        "if response.status_code != 200:\n",
        "    # Print the error code and message if something went wrong\n",
        "    print('Request failed: {}'.format(response.reason))\n",
        "\n",
        "\n",
        "# Print the response\n",
        "pretty(response)"
      ],
      "execution_count": null,
      "outputs": []
    },
    {
      "cell_type": "markdown",
      "metadata": {
        "id": "2EtWVhfyoreK"
      },
      "source": [
        "This response returns as a dictionary though responses can also be a combination of dictionaries and lists depending on which endpoint is called. This means that you can access different data in the response the same way that you would access dictionaries and lists as demonstrated below."
      ]
    },
    {
      "cell_type": "markdown",
      "metadata": {
        "id": "6_6wZG1ipAbZ"
      },
      "source": [
        "The requests library makes it easy to use the APIs. Next we will cover a few of the other informational APIs."
      ]
    },
    {
      "cell_type": "markdown",
      "source": [
        "# Getting API metadata\n",
        "Several API endpoints can used to obtain metadata about IDC hosted data. Some of the metadata is also used in the parameterization of other API endpoints."
      ],
      "metadata": {
        "id": "KMf4IKpyVzTV"
      }
    },
    {
      "cell_type": "markdown",
      "metadata": {
        "id": "p6eV4z_IpZgH"
      },
      "source": [
        "## `/versions` GET endpoint"
      ]
    },
    {
      "cell_type": "markdown",
      "source": [],
      "metadata": {
        "id": "On5CkB7SV6gy"
      }
    },
    {
      "cell_type": "markdown",
      "metadata": {
        "id": "pil_CrXbpvIY"
      },
      "source": [
        "IDC data is organized as a hierarchy. The top level of the hierarchy is the IDC version. An IDC version is a set of (versions of) collections where a collection is a set of DICOM data resulting from some investigation. The following levels in the hierarchy...patient, study, series, instance...follow the DICOM model of the real world.   \n",
        "\n",
        "Over time, the set of collections and the data in collections may change. For the most part, such changes will be due to new data having been added. The totality of available IDC hosted data resulting from any such change is represented by a unique IDC data version ID. That is, each time that the set of publicly available data changes, a new IDC version is created that exactly defines the revised data set.\n",
        "\n",
        "The IDC data version is intended to enable the reproducibility of research results. For example, consider a patient in the DICOM data model. Over time, new studies might be performed on a patient and become associated with that patient, and with the corresponding DICOM instances added to the IDC hosted data. Or additional patients might  be added to some collection over time. This means that the set of patients defined by some search operation (as defined by a \"filter set\") will change over time. Thus, for purposes of reproducibility, we define a cohort in terms of a filter set **and** an IDC data version.\n",
        "\n",
        "The `/versions` endpoint returns information about current IDC versions and each of the previously defined IDC versions. This information includes the data sources (BQ tables) that contain the data of each version. We will first retrieve the request and then view if there was an error code within the response."
      ]
    },
    {
      "cell_type": "code",
      "metadata": {
        "id": "kEMvm_xwssF0"
      },
      "source": [
        "# Retrieve the response from the API endpoint\n",
        "response = requests.get('{}/versions'.format(idc_api_preamble))\n",
        "\n",
        "# Check that there wasn't an error with the request\n",
        "if response.status_code != 200:\n",
        "  # Print the error code and message if something went wrong\n",
        "  print(response.json())  # Print the error code if something went wrong\n",
        "\n",
        "# Print the versions JSON text\n",
        "pretty(response)"
      ],
      "execution_count": null,
      "outputs": []
    },
    {
      "cell_type": "markdown",
      "metadata": {
        "id": "HnyYUezztRGU"
      },
      "source": [
        "We see  that, as of this writing, there are seventeen IDC versions. The current or active version is idc_data_version 17.0."
      ]
    },
    {
      "cell_type": "markdown",
      "source": [
        "An Analysis Result is a kind of collection comprised of derived DICOM data that was generated by analyzing other (usually Original) collections. Typically such an analysis is performed by a different entity than that which provided the original collection(s) on which the analysis is based. Examples of data in analysis results include segmentations, annotations and further processing of original images. Note that some Original Collections include such analysis results, though most of the data in Original collections are original images."
      ],
      "metadata": {
        "id": "8_f6b5_ZiXeT"
      }
    },
    {
      "cell_type": "markdown",
      "metadata": {
        "id": "e_Ex8JRly0QH"
      },
      "source": [
        "## `/collections` GET endpoint"
      ]
    },
    {
      "cell_type": "markdown",
      "metadata": {
        "id": "Ol6C9O-JxYz1"
      },
      "source": [
        "An *Original* collection is a set of DICOM data provided by a single source. Original collections are comprised primarily of DICOM image data that were obtained from some set of patients, i.e. scans of some scan. Typically, the patients in an Original collection are related by a common disease.\n",
        "\n",
        "The /collections endpoint returns data about all the Original collections for the active IDC data version.\n"
      ]
    },
    {
      "cell_type": "code",
      "metadata": {
        "id": "AsmNpqYtyxl0"
      },
      "source": [
        "\n",
        "response = requests.get('{}/collections'.format(idc_api_preamble))\n",
        "# Check that there wasn't an error with the request\n",
        "if response.status_code != 200:\n",
        "    # Print the error code and message if something went wrong\n",
        "    print('Request failed: {}'.format(response.reason))\n",
        "\n",
        "# Print the versions JSON text\n",
        "pretty(response)"
      ],
      "execution_count": null,
      "outputs": []
    },
    {
      "cell_type": "markdown",
      "source": [
        "## `/analysis_results` GET endpoint"
      ],
      "metadata": {
        "id": "uJtwbh7mifoM"
      }
    },
    {
      "cell_type": "markdown",
      "metadata": {
        "id": "z0EnRfsdX2WW"
      },
      "source": [
        "An Analysis Result is a kind of collection comprised of derived DICOM data that was generated by analyzing other (usually Original) collections. Typically such an analysis is performed by a different entity than that which provided the original collection(s) on which the analysis is based. Examples of data in analysis results include segmentations, annotations and further processing of original images. Note that some Original Collections include such analysis results, though most of the data in Original collections are original images.\n",
        "\n",
        "The /analysis_results API returns metadata onof each available analysis results."
      ]
    },
    {
      "cell_type": "code",
      "source": [
        "# Retrieve the response from the API endpoint\n",
        "response = requests.get('{}/analysis_results'.format(idc_api_preamble))\n",
        "\n",
        "# Check that there wasn't an error with the request\n",
        "if response.status_code != 200:\n",
        "  # Print the error code and message if something went wrong\n",
        "  print(response.json())  # Print the error code if something went wrong\n",
        "\n",
        "# Print the versions JSON text\n",
        "pretty(response)"
      ],
      "metadata": {
        "id": "QKsTbvvUinwg"
      },
      "execution_count": null,
      "outputs": []
    },
    {
      "cell_type": "markdown",
      "source": [
        "## /filters GET endpoint"
      ],
      "metadata": {
        "id": "G6J_yj1OTOD2"
      }
    },
    {
      "cell_type": "markdown",
      "source": [
        "As mentioned earlier, and described in the IDC User Guide, a cohort is defined in terms of a filterset.  \n",
        "\n",
        "A filterset is a list of filters, where each filter is given as a JSON encoded dict having the form:\n",
        "```\n",
        "{ attribute: [value,...]}\n",
        "```\n",
        "For example:\n",
        "{\"Modality\": [\"MR\", \"PT\"]}\n",
        "The filters endpoint returns a list of the available filter attributes."
      ],
      "metadata": {
        "id": "qgnUDdG1TWvV"
      }
    },
    {
      "cell_type": "code",
      "source": [
        "# Retrieve the response from the API endpoint\n",
        "response = requests.get('{}/filters'.format(idc_api_preamble))\n",
        "\n",
        "# Check that there wasn't an error with the request\n",
        "if response.status_code != 200:\n",
        "  # Print the error code and message if something went wrong\n",
        "  print(response.json())  # Print the error code if something went wrong\n",
        "\n",
        "# Print the collections JSON text\n",
        "pretty(response)"
      ],
      "metadata": {
        "id": "dnCJBrS7oIib"
      },
      "execution_count": null,
      "outputs": []
    },
    {
      "cell_type": "markdown",
      "source": [
        "The name of each attribute is returned along with its type and units where appropriate."
      ],
      "metadata": {
        "id": "kMHdSfuvrH9B"
      }
    },
    {
      "cell_type": "markdown",
      "source": [
        "## <k>/</k>filters/values/{filter} GET endpoint\n",
        "\n",
        "\n",
        "\n"
      ],
      "metadata": {
        "id": "SfS3SNDWoRCI"
      }
    },
    {
      "cell_type": "markdown",
      "source": [
        "Some filters recognize only certain defined values. The /filters/{attribute} returns the values accepted by a specified Categorical String or Categorical Numeric filter attribute.\n",
        "\n",
        "For example, the following gets the values accepted by the *Modality* Categorical String filter attribute:"
      ],
      "metadata": {
        "id": "sSuqjEudo4Kv"
      }
    },
    {
      "cell_type": "code",
      "source": [
        "# Retrieve the response from the API endpoint\n",
        "filter = 'Modality'\n",
        "response = requests.get(f'{idc_api_preamble}/filters/values/{filter}')\n",
        "\n",
        "# Check that there wasn't an error with the request\n",
        "if response.status_code != 200:\n",
        "  # Print the error code and message if something went wrong\n",
        "  print(f'{response.reason}: {response.json()[\"message\"]}')  # Print the error code if something went wrong\n",
        "\n",
        "# Print the collections JSON text\n",
        "pretty(response)"
      ],
      "metadata": {
        "id": "qyunReaCstZR"
      },
      "execution_count": null,
      "outputs": []
    },
    {
      "cell_type": "markdown",
      "source": [
        "## /fields GET endpoint\n",
        "The IDC API V2 enables getting a manifest of metadata about the objects in some cohort. The kinds of metadata to be included in a manifest are specified as a list of `fields`. The `fields` endpoint returns a list of available fields."
      ],
      "metadata": {
        "id": "nBSho3w4ACax"
      }
    },
    {
      "cell_type": "code",
      "source": [
        "# Retrieve the response from the API endpoint\n",
        "response = requests.get(f'{idc_api_preamble}/fields')\n",
        "\n",
        "# Check that there wasn't an error with the request\n",
        "if response.status_code != 200:\n",
        "  # Print the error code and message if something went wrong\n",
        "  print(response.json())  # Print the error code if something went wrong\n",
        "\n",
        "# Print the collections JSON text\n",
        "pretty(response)"
      ],
      "metadata": {
        "id": "nqGhIXyMA6Up"
      },
      "execution_count": null,
      "outputs": []
    },
    {
      "cell_type": "markdown",
      "source": [
        "# Managing Cohorts\n",
        "The API includes endpoints for creating and managing cohorts. Using these endpoints requires authenticating to the API by providing credentials. A cohort that is created in this way will be saved under the account associated with the credentials. Such a cohort can be accessed through the IDC web app when signed in with the same account. Similarly, cohorts created through the IDC web can be accessed from the API with appropriate credentials."
      ],
      "metadata": {
        "id": "jmhsQa48WoUH"
      }
    },
    {
      "cell_type": "markdown",
      "metadata": {
        "id": "CO40yJQ3BFrW"
      },
      "source": [
        "## Notes on Authorization and Credentials\n",
        "\n",
        "In order to be able to create a cohort or access a previously defined cohort from the API, the user must authenticate their identity with the API. This section will step through the authentication/authorization process. Perform the following steps on your local machine:\n",
        "\n",
        "1. Use the [idc_auth.py](https://github.com/ImagingDataCommons/IDC-Examples/blob/master/scripts/idc_auth.py) Python script to create a Credential File on your local machine.\n",
        "  * This script must be be executed from the command line\n",
        "  * Refer to the script for execution instructions\n",
        "2. Find the location of the Credential File on your local machine\n",
        "  * By default, the script will save the credentail file in the user's home folder with the file name: `.idc_credentials`\n",
        "\n",
        "We can now proceed to load the credential file into the cloud environment you are using:"
      ]
    },
    {
      "cell_type": "code",
      "metadata": {
        "id": "TYY9fUVRRCLY"
      },
      "source": [
        "import os\n",
        "# Import files helper for Colab\n",
        "from google.colab import files"
      ],
      "execution_count": null,
      "outputs": []
    },
    {
      "cell_type": "code",
      "metadata": {
        "id": "0H4QGZ3zQz7x"
      },
      "source": [
        "# First delete any local instances of your credentials.\n",
        "# If we do not do this, file.upload() will name the new file \".idc_credentials (1)\"\n",
        "try:\n",
        "  os.remove('./.idc_credentials')\n",
        "except:\n",
        "  print('.idc_credentials not found')\n",
        "# The above assumes that your credential file is name '.idc_credentials'. Edit as needed.\n",
        "\n",
        "# Upload your credentials to the cloud environment. Click on the Choose Files button to bring up a file browser\n",
        "uploaded = files.upload()\n",
        "#Click on the \"Choose File\" button to open a file browser:"
      ],
      "execution_count": null,
      "outputs": []
    },
    {
      "cell_type": "markdown",
      "metadata": {
        "id": "3PM9_7ZySBzC"
      },
      "source": [
        "Now that we have the Credentials file created and uploaded to the cloud environment, we can extract the ID token that identifies you for the purpose of authorization."
      ]
    },
    {
      "cell_type": "code",
      "metadata": {
        "id": "uj_jc3p6Wx_p"
      },
      "source": [
        "# Open the credentials file\n",
        "token = open(\".idc_credentials\", \"r\")\n",
        "# Create a json object from the credential file\n",
        "token = json.loads(token.read())\n",
        "# Get Credentials from the token\n",
        "creds = token['token_response']['id_token']\n",
        "# Create a json object for requests header\n",
        "auth_header = {\n",
        "    'Authorization': 'Bearer ' + creds\n",
        "    }"
      ],
      "execution_count": null,
      "outputs": []
    },
    {
      "cell_type": "markdown",
      "metadata": {
        "id": "i0y9thsfXATV"
      },
      "source": [
        "**Note:** the credentials file will expire after 1 hour and a new one will need to be generated. If a new file is not generated with the idc_auth script, you can delete the original file and try running the script again."
      ]
    },
    {
      "cell_type": "markdown",
      "metadata": {
        "id": "RIkYHdLWXKAX"
      },
      "source": [
        "## <k>/</k>cohorts POST Endpoint\n",
        "We can now proceed to use the POST `/cohorts` endpoint to create a cohort. We will use the same cohort definition as previously."
      ]
    },
    {
      "cell_type": "code",
      "metadata": {
        "id": "Z8I4uplMUGMt"
      },
      "source": [
        "filters = {\n",
        "    \"collection_id\": [\n",
        "      \"tcga_luad\",\n",
        "      \"tcga_kirc\"\n",
        "    ],\n",
        "    \"Modality\": [\n",
        "      \"CT\",\n",
        "      \"MR\"\n",
        "    ],\n",
        "    \"race\": [\n",
        "      \"WHITE\"\n",
        "    ],\n",
        "    \"age_at_diagnosis_btw\": [\n",
        "      65,\n",
        "      75\n",
        "    ]\n",
        "  }\n",
        "\n",
        "\n",
        "mimetype = 'application/json'\n",
        "headers = {\n",
        "    'Accept': mimetype,\n",
        "    'Content-Type': mimetype\n",
        "    }\n",
        "\n",
        "\n",
        "cohortSpec = {\"name\": \"testcohort\",\n",
        "              \"description\": \"Test description\",\n",
        "              \"filters\": filters}\n"
      ],
      "execution_count": null,
      "outputs": []
    },
    {
      "cell_type": "code",
      "source": [
        "response = requests.post(f'{idc_api_preamble}/cohorts/',\n",
        "            data=json.dumps(cohortSpec), headers = headers|auth_header)\n",
        "\n",
        "# Check that there wasn't an error with the request\n",
        "if response.status_code != 200:\n",
        "    # Print the error code and message if something went wrong\n",
        "    print('Request failed: {}'.format(response.reason))\n",
        "else:\n",
        "  print(json.dumps(response.json(), sort_keys=True, indent=1))\n",
        "\n",
        "  cohort_id = response.json()['cohort_properties']['cohort_id']"
      ],
      "metadata": {
        "id": "y160rR28-8dS"
      },
      "execution_count": null,
      "outputs": []
    },
    {
      "cell_type": "markdown",
      "metadata": {
        "id": "HKnhDeB-YyEp"
      },
      "source": [
        "The response repeats the cohort definition and includes both the cohort_id of the newly created cohort and the current IDC version. Including the IDC version in the cohort definition insures that the objects in the cohort are uniquely define.\n",
        "\n",
        "We will use this ID in some subsequent examples."
      ]
    },
    {
      "cell_type": "markdown",
      "source": [
        "The /cohorts GET endpoint returns a list of the callers previously cohorts:"
      ],
      "metadata": {
        "id": "2Gnv8Vf4tiFO"
      }
    },
    {
      "cell_type": "code",
      "source": [
        "# Retrieve the response from the API endpoint\n",
        "response = requests.get(f'{idc_api_preamble}/cohorts',\n",
        "            headers=headers|auth_header)\n",
        "\n",
        "# Check that there wasn't an error with the request\n",
        "if response.status_code != 200:\n",
        "  # Print the error code and message if something went wrong\n",
        "  print(response.json())  # Print the error code if something went wrong\n",
        "\n",
        "# Print the list of cohorts\n",
        "pretty(response)"
      ],
      "metadata": {
        "id": "l2sg4rHoturj"
      },
      "execution_count": null,
      "outputs": []
    },
    {
      "cell_type": "markdown",
      "source": [
        "The /cohorts/{cohort_id} DELETE endpoint and the /cohorts DELETE endpoint can be used to delete, respectively, a single cohort or a list of cohorts. We'll demonstrate deleting a single cohort:"
      ],
      "metadata": {
        "id": "IfecvOsVuhlc"
      }
    },
    {
      "cell_type": "code",
      "source": [
        "# Retrieve the response from the API endpoint\n",
        "response = requests.delete(f'{idc_api_preamble}/cohorts/{cohort_id}',\n",
        "            headers=headers|auth_header)\n",
        "\n",
        "# Check that there wasn't an error with the request\n",
        "if response.status_code != 200:\n",
        "  # Print the error code and message if something went wrong\n",
        "  print(response.json())  # Print the error code if something went wrong\n",
        "\n",
        "# Print the list of cohorts\n",
        "pretty(response)"
      ],
      "metadata": {
        "id": "FgWRftTWwGWq"
      },
      "execution_count": null,
      "outputs": []
    },
    {
      "cell_type": "markdown",
      "source": [
        "# Getting a manifest\n",
        "As described in detail in the [IDC User Guide](https://colab.research.google.com/corgiredirector?site=https%3A%2F%2Flearn.canceridc.dev%2Fps%3A%2F%2F),the manifest is a table of metadata about the objects in a cohort. The metadata that can be included in an manifest obtained from the API can have more fields than a manifest obtained from the IDC web app. We first need to create another cohort because we deleted the cohort that we previously created:"
      ],
      "metadata": {
        "id": "t33f5m-VwoKQ"
      }
    },
    {
      "cell_type": "code",
      "source": [
        "response = requests.post(f'{idc_api_preamble}/cohorts/',\n",
        "                      data=json.dumps(cohortSpec), headers=headers|auth_header)\n",
        "\n",
        "# Check that there wasn't an error with the request\n",
        "if response.status_code != 200:\n",
        "    # Print the error code and message if something went wrong\n",
        "    print('Request failed: {}'.format(response.reason))\n",
        "else:\n",
        "  cohort_id = response.json()['cohort_properties']['cohort_id']"
      ],
      "metadata": {
        "id": "hn2LxzSTyaA6"
      },
      "execution_count": null,
      "outputs": []
    },
    {
      "cell_type": "markdown",
      "source": [
        "The /manifest/{cohort_id} endpoint takes a cohort_id. It also accepts a JSON encoded specification of the manifest to be returned. This include a list of the fields in the manifest and some additional parameters.\n",
        "In the following example, we request a manifest which includes the fields listed in the `fields` list. `fields` is a required component of the `manifestBody`.\n",
        "\n",
        "`manifestBody` can include several other optional components.\n",
        "\n",
        "-If the \"counts\" parameter is included and is True, the manifest will include the counts of the objects which make up each row in the manifest. The default is False.\n",
        "\n",
        "-If the \"size\" parameter is included and is True, the manifest will include the total size in bytes of the instances that are represented by each row of the manifest. The default is False.\n",
        "\n",
        "-If the \"sql\" parameter is include and is True, the BigQuery SQL that was used to generate the manifest is returned. The default is False.\n",
        "\n",
        "-If the \"page_size\" parameter is included and is a valid integer, at most page_size rows of he manifest will be returned. The default is 1000 rows."
      ],
      "metadata": {
        "id": "fs5keMh9yxTP"
      }
    },
    {
      "cell_type": "code",
      "source": [
        "fields = [\n",
        "  'collection_id',\n",
        "  'modality',\n",
        "  'race',\n",
        "  'age_at_diagnosis',\n",
        "  'studyinstanceuid',\n",
        "]\n",
        "\n",
        "manifestBody = {\n",
        "    \"fields\": fields,\n",
        "    \"counts\": True,\n",
        "    \"group_size\": True,\n",
        "    \"sql\": True,\n",
        "    'page_size': 10,\n",
        "}\n",
        "\n",
        "response = requests.post(f'{idc_api_preamble}/cohorts/manifest/{cohort_id}',\n",
        "            data=json.dumps(manifestBody), headers=headers|auth_header)\n",
        "\n",
        "# Check that there wasn't an error with the request\n",
        "if response.status_code != 200:\n",
        "    # Print the error code and message if something went wrong\n",
        "    print('Request failed: {}'.format(response.reason))\n",
        "else:\n",
        "  # Print the list of cohorts\n",
        "  pretty(response)"
      ],
      "metadata": {
        "id": "ulfbCffp0I1M"
      },
      "execution_count": null,
      "outputs": []
    },
    {
      "cell_type": "markdown",
      "source": [
        "This is a \"study granularity\" manifest because the filters do not include instance or series level filters (SOPInstanceUID, crdc_sop_uuid, SeriesInstanceUID, crdc_series_uuid). (See the IDC User Guide for an in-depth discussion of manifest granulariy).\n",
        "\n",
        "Because the manifest has study granularity, each row includes the number of series (`series_count`) and the number of instance (`instance_count`) having the values of the reported fields. E.G., the first row of the manifest shows that 2 series and 54 instances have the 'CT' modality, are in the study having StudyInstanceUID \"1.3.6.1.4.1.14519.5.2.1.8421.4004.694473393945766391895523698595\", etc.\n",
        "\n",
        "Because the `group_size` parameter is True, each row includes a `group_size` value. This is the size, in bytes, of all instances in the group having the specified filter values.\n",
        "\n",
        "Because the `sql` parameter is True, the BQ SQL is include on the `cohort_def`.\n",
        "\n",
        "Because the \"counts\" parameter is 10, the response shows that there are 105 rows in the manifest but only 10 rows were returned as limited by the page_size parameter. The response includes a `next_page` token. This token can be submitted to the /manifest/nextPage endpoint to obtain additional rows of the manifest:\n"
      ],
      "metadata": {
        "id": "8or0BI6agjU0"
      }
    },
    {
      "cell_type": "code",
      "metadata": {
        "id": "jPlHkZocX7rd"
      },
      "source": [
        "next_page_token = response.json()['next_page']\n",
        "\n",
        "params = {\n",
        "    \"next_page\": next_page_token,\n",
        "    \"page_size\": 10\n",
        "}\n",
        "\n",
        "response = requests.get('{}/cohorts/manifest/nextPage'.format(idc_api_preamble, cohort_id),\n",
        "                      params=params, headers=headers|auth_header)\n",
        "\n",
        "# Check that there wasn't an error with the request\n",
        "if response.status_code != 200:\n",
        "    # Print the error code and message if something went wrong\n",
        "    print(response.json())\n",
        "else:\n",
        "  pretty(response)"
      ],
      "execution_count": null,
      "outputs": []
    },
    {
      "cell_type": "markdown",
      "source": [
        "We received another 10 rows, but the `next_page` is not Null, indicating that there are still more row in the manifest."
      ],
      "metadata": {
        "id": "Zi_mlRN1nLeg"
      }
    },
    {
      "cell_type": "markdown",
      "metadata": {
        "id": "MdZVwFTRdrHH"
      },
      "source": [
        "## Preview manifest"
      ]
    },
    {
      "cell_type": "markdown",
      "metadata": {
        "id": "mC2NcjdtaGDy"
      },
      "source": [
        "The POST `/cohorts/manifest/preview` effectively creates a cohort, gets a manifest for that cohort and tne deletes the cohort. However, a cohort is never actually created and saved. Therefore this endpoint does not require user authentication.\n",
        "\n",
        "The `/cohorts/manifest/preview` API does not actually create a cohort, but acts as if a cohort were created. Creating a cohort requires authenticating to the API; that process is addessed in a subsequent example describing the `/cohorts/manifest/{cohort_id}` API.\n",
        "\n",
        "In the following we create a preview manifest for the same cohort as in previous examples. The manifestPreviewBody is like the manifestBody passed to the /manifest endpoint except that it also includes the \"cohort_def\" components.Note that the headers do not include the auth_header:\n",
        "\n"
      ]
    },
    {
      "cell_type": "code",
      "metadata": {
        "id": "NmLDCwyMrKIW"
      },
      "source": [
        "filters = {\n",
        "    \"collection_id\": [\n",
        "      \"tcga_luad\",\n",
        "      \"tcga_kirc\"\n",
        "    ],\n",
        "    \"Modality\": [\n",
        "      \"CT\",\n",
        "      \"MR\"\n",
        "    ],\n",
        "    \"race\": [\n",
        "      \"WHITE\"\n",
        "    ],\n",
        "    \"age_at_diagnosis_btw\": [\n",
        "      65,\n",
        "      75\n",
        "    ]\n",
        "  }\n",
        "\n",
        "\n",
        "mimetype = 'application/json'\n",
        "headers = {\n",
        "    'Accept': mimetype,\n",
        "    'Content-Type': mimetype\n",
        "    }\n",
        "\n",
        "cohortSpec = {\"name\": \"testcohort\",\n",
        "              \"description\": \"Test description\",\n",
        "              \"filters\": filters}\n",
        "\n",
        "manifestPreviewBody = {\n",
        "  \"cohort_def\": cohortSpec,\n",
        "  \"fields\": fields,\n",
        "  \"counts\": True,\n",
        "  \"group_size\": True,\n",
        "  \"sql\": True,\n",
        "  'page_size': 10\n",
        "}\n",
        "\n",
        "response = requests.post(f'{idc_api_preamble}/cohorts/manifest/preview',\n",
        "                      data=json.dumps(manifestPreviewBody), headers=headers)\n",
        "\n",
        "# Check that there wasn't an error with the request\n",
        "if response.status_code != 200:\n",
        "    # Print the error code and message if something went wrong\n",
        "    print('Request failed: {}'.format(response.reason))\n",
        "else:\n",
        "  # Print the list of cohorts\n",
        "  pretty(response)"
      ],
      "execution_count": null,
      "outputs": []
    },
    {
      "cell_type": "markdown",
      "metadata": {
        "id": "b9--y7MbtM3j"
      },
      "source": [
        "These are the same initial 10 rows obtained from the /manifest endpoint. Like the /manifest/nextPage endpoint, the <k>/</k>manifest/preview/nextPage endpoint can be accessed to obtain the additional rows of the manifest."
      ]
    },
    {
      "cell_type": "markdown",
      "source": [
        "# Obtaining IDC DICOM data\n",
        "An important goal of these manifest is to provide the information needed to obtain IDC DICOM data...specifically DICOM instance data. There are several `fields` that important for this purpose.\n",
        "\n",
        "\n"
      ],
      "metadata": {
        "id": "qaoAUbOOuNfi"
      }
    },
    {
      "cell_type": "markdown",
      "source": [
        "## Instance level access\n",
        "The gcs_url and aws_url fields provide the GCS and AWS URL respectively of each instance in the cohort. For example:"
      ],
      "metadata": {
        "id": "uO-f5RB4H7BC"
      }
    },
    {
      "cell_type": "code",
      "source": [
        "filters = {\n",
        "    \"collection_id\": [\n",
        "      \"tcga_luad\",\n",
        "      \"tcga_kirc\"\n",
        "    ],\n",
        "    \"Modality\": [\n",
        "      \"CT\",\n",
        "      \"MR\"\n",
        "    ],\n",
        "    \"race\": [\n",
        "      \"WHITE\"\n",
        "    ],\n",
        "    \"age_at_diagnosis_btw\": [\n",
        "      65,\n",
        "      75\n",
        "    ]\n",
        "  }\n",
        "\n",
        "mimetype = 'application/json'\n",
        "headers = {\n",
        "    'Accept': mimetype,\n",
        "    'Content-Type': mimetype\n",
        "    }\n",
        "\n",
        "cohortSpec = {\"name\": \"testcohort\",\n",
        "              \"description\": \"Test description\",\n",
        "              \"filters\": filters}\n",
        "\n",
        "fields = [\n",
        "    \"gcs_url\",\n",
        "    \"aws_url\"\n",
        "]\n",
        "\n",
        "manifestPreviewBody = {\n",
        "  \"cohort_def\": cohortSpec,\n",
        "  \"fields\": fields,\n",
        "  \"page_size\": 10\n",
        "}\n",
        "\n",
        "urls = requests.post(f'{idc_api_preamble}/cohorts/manifest/preview',\n",
        "                      data=json.dumps(manifestPreviewBody), headers=headers)\n",
        "\n",
        "# Check that there wasn't an error with the request\n",
        "if urls.status_code != 200:\n",
        "    # Print the error code and message if something went wrong\n",
        "    print('Request failed: {}'.format(urls.reason))\n",
        "else:\n",
        "  # Print the list of cohorts\n",
        "  pretty(urls)"
      ],
      "metadata": {
        "id": "3VUEaRDv-RQm"
      },
      "execution_count": null,
      "outputs": []
    },
    {
      "cell_type": "markdown",
      "source": [
        "Given a gcs_url, there a various methods and tools, such as gsutil and curl, for obtaining the corresponding DICOM object, e.g.:\n",
        "\n",
        "* gsutil -u {project_id} cp gs://{bucket}/{object_name}\n",
        "* curl -X GET -H \"Authorization: Bearer {oauth2_token}\" -o {save_location} -k \"https:<k>//</k>storage.googleapis.org/storage/v1/b/{bucket}/o/{object_name}?userProject={project_id}\"\n",
        "\n",
        "We will continue to use the same requests.get method. For this purpose we need to convert the gs type URL to an https URL:"
      ],
      "metadata": {
        "id": "fBiTidEVBina"
      }
    },
    {
      "cell_type": "code",
      "source": [
        "# Get the gs type URL from one of the returned DrsObjects\n",
        "gcs_url = urls.json()[\"manifest\"][\"manifest_data\"][0]['gcs_url']\n",
        "# Convert the gs type URL to an https type url\n",
        "https_url = gcs_url.replace(\"gs://\", \"https://storage.googleapis.com/\")\n",
        "\n",
        "# Now we can get the DICOM object\n",
        "response = requests.get(https_url)\n",
        "\n",
        "# Check that there wasn't an error with the request\n",
        "if response.status_code != 200:\n",
        "    # Print the error code and message if something went wrong\n",
        "    print('Request failed: {}'.format(response.reason))\n"
      ],
      "metadata": {
        "id": "AN18u0rv_VPy"
      },
      "execution_count": null,
      "outputs": []
    },
    {
      "cell_type": "markdown",
      "metadata": {
        "id": "rbgfE53lIXGb"
      },
      "source": [
        "To verify that we have downloaded the instance, we will inspect it using the pydicom package."
      ]
    },
    {
      "cell_type": "code",
      "metadata": {
        "id": "06t66_XFtgKo"
      },
      "source": [
        "!pip install pydicom\n",
        "import pydicom"
      ],
      "execution_count": null,
      "outputs": []
    },
    {
      "cell_type": "markdown",
      "metadata": {
        "id": "VXjtOs_eIn2i"
      },
      "source": [
        "We can access the instance while it is in memory by converting the returned bytes to a binary I/O stream."
      ]
    },
    {
      "cell_type": "code",
      "metadata": {
        "id": "z8LULbS6tTpF"
      },
      "source": [
        "import io\n",
        "dcm = io.BytesIO(response.content)"
      ],
      "execution_count": null,
      "outputs": []
    },
    {
      "cell_type": "markdown",
      "metadata": {
        "id": "ijFqPEk3SlS9"
      },
      "source": [
        "Then we read the object and dump its contents."
      ]
    },
    {
      "cell_type": "code",
      "metadata": {
        "id": "Yy9TfwzPGG8U"
      },
      "source": [
        "print(pydicom.dcmread(dcm))"
      ],
      "execution_count": null,
      "outputs": []
    },
    {
      "cell_type": "markdown",
      "source": [
        "The process for getting the DICOM object from an AWS bucket is similar:"
      ],
      "metadata": {
        "id": "kdsSV-02GVDC"
      }
    },
    {
      "cell_type": "code",
      "source": [
        "# Get the gs type URL from one of the returned DrsObjects\n",
        "aws_url = urls.json()[\"manifest\"][\"manifest_data\"][1]['aws_url']\n",
        "# Convert the s3 type URL to an https type url\n",
        "https_url = aws_url.replace(\"s3://\", \"https://s3.amazonaws.com/\")\n",
        "\n",
        "# Now we can get the DICOM object\n",
        "response = requests.get(https_url)\n",
        "\n",
        "# Check that there wasn't an error with the request\n",
        "if response.status_code != 200:\n",
        "    # Print the error code and message if something went wrong\n",
        "    print('Request failed: {}'.format(response.reason))\n"
      ],
      "metadata": {
        "id": "1WSeguU4GeEp"
      },
      "execution_count": null,
      "outputs": []
    },
    {
      "cell_type": "markdown",
      "source": [
        "Verify that we have obtained the DICOM object:"
      ],
      "metadata": {
        "id": "k6VZzx-sHUrl"
      }
    },
    {
      "cell_type": "code",
      "source": [
        "dcm = io.BytesIO(response.content)\n",
        "print(pydicom.dcmread(dcm))"
      ],
      "metadata": {
        "id": "ulbbgMc7G7i_"
      },
      "execution_count": null,
      "outputs": []
    },
    {
      "cell_type": "markdown",
      "source": [
        "## Series level access\n",
        "Each version of each IDC DICOM series is assigned a unique `crdc_series_uuid`. Similarly, each version of each IDC DICOM instance is assigned a unique `crdc_instance_uuid`. (To be specific, these are [Version 4 UUIDs](https://en.wikipedia.org/wiki/Universally_unique_identifier#Version_4_(random))).\n",
        "\n",
        "IDC uses these UUIDs to uniquely and hierarchically name each version of each IDC DICOM instance in a hierarchical. These names of IDC instance in GCS and in AWS are, respectively, of the form:\n",
        "* gs://\\<bucket\\>/\\<crdc_series_uuid\\>/\\<crdc_instance_uid\\>.dcm\n",
        "* s3://\\<bucket\\>/\\<crdc_series_uuid\\>/\\<crdc_instance_uid\\>.dcm\n",
        "\n",
        "Some tools can take advantage of this hierachical naming to copy all instances in a series, given just the bucket name and `crdc_series_instance`. We will demonstrate using the `s5cmd` tool for this purpose.\n",
        "\n",
        "First we generate a manifest that includes just the bucket and crdc_series_uuids. (We reduce the size of the cohort for demonstration purposes.):"
      ],
      "metadata": {
        "id": "zRfDMj_OH_EX"
      }
    },
    {
      "cell_type": "code",
      "source": [
        "filters = {\n",
        "    \"collection_id\": [\n",
        "      \"tcga_luad\",\n",
        "      \"tcga_kirc\"\n",
        "    ],\n",
        "    \"Modality\": [\n",
        "      \"CT\",\n",
        "      \"MR\"\n",
        "    ],\n",
        "    \"race\": [\n",
        "      \"WHITE\"\n",
        "    ],\n",
        "    \"age_at_diagnosis\": [\n",
        "      34\n",
        "    ]\n",
        "  }\n",
        "\n",
        "mimetype = 'application/json'\n",
        "headers = {\n",
        "    'Accept': mimetype,\n",
        "    'Content-Type': mimetype\n",
        "    }\n",
        "\n",
        "cohortSpec = {\"name\": \"testcohort\",\n",
        "              \"description\": \"Test description\",\n",
        "              \"filters\": filters}\n",
        "\n",
        "fields = [\n",
        "    \"gcs_bucket\",\n",
        "    \"aws_bucket\",\n",
        "    \"crdc_series_uuid\"\n",
        "]\n",
        "\n",
        "manifestPreviewBody = {\n",
        "  \"cohort_def\": cohortSpec,\n",
        "  \"fields\": fields\n",
        "}\n",
        "\n",
        "series_uuids = requests.post(f'{idc_api_preamble}/cohorts/manifest/preview',\n",
        "                      data=json.dumps(manifestPreviewBody), headers=headers)\n",
        "\n",
        "# Check that there wasn't an error with the request\n",
        "if series_uuids.status_code != 200:\n",
        "    # Print the error code and message if something went wrong\n",
        "    print('Request failed: {}'.format(series_uuids.reason))\n",
        "else:\n",
        "  # Print the list of cohorts\n",
        "  pretty(series_uuids)"
      ],
      "metadata": {
        "id": "rs7T8m34PvE-"
      },
      "execution_count": null,
      "outputs": []
    },
    {
      "cell_type": "markdown",
      "source": [
        "We'll use the [s5cmd](https://github.com/peak/s5cmd) tool to copy the instances in this manifest from GCS and AWS buckets to the local device. First, we install s5cmd:"
      ],
      "metadata": {
        "id": "sXdW3TfXbxqv"
      }
    },
    {
      "cell_type": "code",
      "source": [
        "!curl -o s5cmd.tar.gz -L https://github.com/peak/s5cmd/releases/download/v2.2.2/s5cmd_2.2.2_Linux-32bit.tar.gz\n",
        "!tar zxf s5cmd.tar.gz"
      ],
      "metadata": {
        "id": "Pdp9uk8OclY3"
      },
      "execution_count": null,
      "outputs": []
    },
    {
      "cell_type": "markdown",
      "source": [
        "We first show how to copy all the instances in a single series using s5cmd. s5cmd expects `s3` type URLs for both AWS and GCS. A parameter controls whether s5cmd accesses an AWS or a GCS bucket. We'll demonstrate copying from AWS first. Construct the URL:"
      ],
      "metadata": {
        "id": "ocomdR4dfHGV"
      }
    },
    {
      "cell_type": "code",
      "source": [
        "# Get the data from the first row of the manifest\n",
        "series_data = series_uuids.json()['manifest']['manifest_data'][0]\n",
        "# Construct the URL\n",
        "aws_url = f's3://{series_data[\"aws_bucket\"]}/{series_data[\"crdc_series_uuid\"]}/*'\n",
        "print(aws_url)\n",
        "# We need a directory into which to copy the data:\n",
        "!mkdir -vp /tmp/dicom_data\n",
        "# Execute s5cmd\n",
        "!./s5cmd --no-sign-request --endpoint-url https://s3.amazonaws.com cp $aws_url /tmp/dicom_data\n",
        "# Delete the directory and contents\n",
        "!rm -vr /tmp/dicom_data"
      ],
      "metadata": {
        "id": "5n6UTlyyhGCr"
      },
      "execution_count": null,
      "outputs": []
    },
    {
      "cell_type": "markdown",
      "source": [
        "We use a similar script to copy data from GCS. There are two differences:\n",
        "* The URL contains the GCS bucket rather than the AWS bucket\n",
        "* The command has a different value for the --endpoint-url parameter\n",
        "\n"
      ],
      "metadata": {
        "id": "lnEKd1-xNZ3Q"
      }
    },
    {
      "cell_type": "code",
      "source": [
        "# Get the data from the first row of the manifest\n",
        "series_data = series_uuids.json()['manifest']['manifest_data'][0]\n",
        "# Construct the URL\n",
        "gcs_url = f's3://{series_data[\"gcs_bucket\"]}/{series_data[\"crdc_series_uuid\"]}/*'\n",
        "print(aws_url)\n",
        "# We need a directory into which to copy the data:\n",
        "!mkdir -vp /tmp/dicom_data\n",
        "# Execute s5cmd\n",
        "!./s5cmd --no-sign-request --endpoint-url https://storage.googleapis.com cp $gcs_url q/tmp/dicom_data\n",
        "# Delete the directory and contents\n",
        "!rm -vr /tmp/dicom_data"
      ],
      "metadata": {
        "id": "AjnxWwehgU7h"
      },
      "execution_count": null,
      "outputs": []
    },
    {
      "cell_type": "markdown",
      "source": [
        "The manifest includes several series. We can get all the data from all the series using the s5cmd `run` command:"
      ],
      "metadata": {
        "id": "JMerNWRsSv-Q"
      }
    },
    {
      "cell_type": "code",
      "source": [
        "# We need a directory into which to copy the data:\n",
        "!mkdir -vp /tmp/dicom_data\n",
        "# We first build a manifest of the series URLS. Each row includes the target directory\n",
        "aws_urls = [f'cp s3://{row[\"aws_bucket\"]}/{row[\"crdc_series_uuid\"]}/* /tmp/dicom_data/.' for row in series_uuids.json()['manifest']['manifest_data']]\n",
        "# Export the manifest to a file\n",
        "with open('/tmp/s5cmd_manifest.s5cmd', \"w\") as f:\n",
        "  for row in aws_urls:\n",
        "    f.write(f'{row}\\n')\n",
        "#Here's what our manifest looks like:\n",
        "! cat /tmp/s5cmd_manifest.s5cmd\n",
        "# Execute s5cmd\n",
        "! ./s5cmd --no-sign-request --endpoint-url https://s3.amazonaws.com run /tmp/s5cmd_manifest.s5cmd\n",
        "! ls -l /tmp/dicom_data\n",
        "# Delete the directory and contents\n",
        "! rm -vr /tmp/dicom_data"
      ],
      "metadata": {
        "id": "n0ioeeS0TDcG"
      },
      "execution_count": null,
      "outputs": []
    },
    {
      "cell_type": "markdown",
      "source": [
        "Copying the entire IDC manifest from GCS is similar."
      ],
      "metadata": {
        "id": "D-X6cTcyppwt"
      }
    },
    {
      "cell_type": "markdown",
      "metadata": {
        "id": "fU_0eXe_yEHL"
      },
      "source": [
        "##Resolving DRS IDs\n",
        "A `DRS ID` is a token that can be presented to a `DRS server` to obtain information on accessing some data object represented by that token.\n",
        "Please refer to the [API](https://learn.canceridc.dev/data/organization-of-data/guids-and-uuids) section of the [IDC User Guide](https://learn.canceridc.dev) for further information on `DRS`, `DrsObjects` and DRS `access methods`. In addition, links to DRS specifications can be found [here](https://ga4gh.github.io/data-repository-service-schemas/).\n",
        "\n",
        "As discussed in the IDC User Guide, it is possible that the gcs_url or aws_url of an IDC DICOM instance can change over time. Therefore such URLs should not be used for long term documentation of the source of data. However, the `DRS ID` of some IDC DICOM instance can always be used to locate the corresponding 'bits' of that instance.\n",
        "\n",
        "For this purpose, a `DRS ID` is 'resolved' to obtain a JSON structure called a `DrsObject', and which will contain information for accessing the the DICOM instance wherever it is.\n",
        "\n",
        "As it turns out, the `crdc_instance_uuid` of an instance is also its `DRS ID`.We will resolve the `crdc_instance_guid`s of the instances in the cohort which we have been working with, and to obtain their URLs. We will then use s5cmd to copy them to the local file system.\n",
        "\n",
        "We need to change the `fields` in our manifest to obtain the `crdc_instance_uuid`s of the instances in the cohort. And we reduced the cohort size even further because resolving DRS IDs is relatively slow:\n"
      ]
    },
    {
      "cell_type": "code",
      "source": [
        "filters = {\n",
        "    \"collection_id\": [\n",
        "      \"tcga_luad\",\n",
        "      \"tcga_kirc\"\n",
        "    ],\n",
        "    \"Modality\": [\n",
        "      \"CT\",\n",
        "      \"MR\"\n",
        "    ],\n",
        "    \"race\": [\n",
        "      \"WHITE\"\n",
        "    ],\n",
        "    \"age_at_diagnosis\": [\n",
        "      82\n",
        "    ]\n",
        "  }\n",
        "\n",
        "mimetype = 'application/json'\n",
        "headers = {\n",
        "    'Accept': mimetype,\n",
        "    'Content-Type': mimetype\n",
        "    }\n",
        "\n",
        "cohortSpec = {\"name\": \"testcohort\",\n",
        "              \"description\": \"Test description\",\n",
        "              \"filters\": filters}\n",
        "\n",
        "fields = [\n",
        "  \"crdc_instance_uuid\"\n",
        "]\n",
        "\n",
        "manifestPreviewBody = {\n",
        "  \"cohort_def\": cohortSpec,\n",
        "  \"fields\": fields\n",
        "}\n",
        "\n",
        "instance_uuids = requests.post(f'{idc_api_preamble}/cohorts/manifest/preview',\n",
        "                      data=json.dumps(manifestPreviewBody), headers=headers)\n",
        "\n",
        "# Check that there wasn't an error with the request\n",
        "if instance_uuids.status_code != 200:\n",
        "    # Print the error code and message if something went wrong\n",
        "    print('Request failed: {}'.format(series_uuids.reason))\n",
        "else:\n",
        "  # Print the list of cohorts\n",
        "  pretty(instance_uuids)"
      ],
      "metadata": {
        "id": "InP_EWikvYX5"
      },
      "execution_count": null,
      "outputs": []
    },
    {
      "cell_type": "markdown",
      "source": [
        "Now we can resolve each crdc_instance_uuid/DRS ID. To resolve such a DRS ID, we present it to the CRDC DRS server:"
      ],
      "metadata": {
        "id": "zCBsfaJmav98"
      }
    },
    {
      "cell_type": "code",
      "metadata": {
        "id": "N5FNelsph1OJ"
      },
      "source": [
        "crdc_drs_server_url = \"https://nci-crdc.datacommons.io/ga4gh/drs/v1/objects\"\n",
        "# Create a list of the series GUIDs in the previous response.\n",
        "drs_ids = [row['crdc_instance_uuid'] for row in instance_uuids.json()['manifest']['manifest_data']]\n",
        "# We'll accumulate the DrsObjects here:\n",
        "drs_objects= []\n",
        "# Resolving a GUID simply requires presenting it to the nci-crdc.datacommons.io server.\n",
        "for drs_id in drs_ids:\n",
        "  drs_object = requests.get(f'{crdc_drs_server_url}/{drs_id}').json()\n",
        "  drs_objects.append(drs_object)\n",
        "\n",
        "# Print one of the DrsObjects\n",
        "print('This cohort has {} instances'.format(len(drs_objects)))\n",
        "print(json.dumps(drs_objects[0], indent=2))"
      ],
      "execution_count": null,
      "outputs": []
    },
    {
      "cell_type": "markdown",
      "metadata": {
        "id": "8YJAHzx9vZ2f"
      },
      "source": [
        "Each DrsObject includes an \"access_method\" list, each element of which describes one method for accessing the object repreesented by the DrsObject. The \"type\" component describes the access method, and the \"url\" in the \"access_url\" is a  \"fully resolvable URL that can be used to fetch the actual object bytes.\"\n",
        "\n",
        "Note that the \"access_id\" is used when obtaining a signed URL to the object. IDC's AWS and GCS data do not require a signed URL.)\n",
        "\n",
        "In the following we will assemble a manifest for obtaining data from GCS. We'll then use s5cmd to obtain the data objects:"
      ]
    },
    {
      "cell_type": "code",
      "source": [
        "drs_object"
      ],
      "metadata": {
        "id": "JiQ5IthNMOpe"
      },
      "execution_count": null,
      "outputs": []
    },
    {
      "cell_type": "code",
      "source": [
        "# We need a directory into which to copy the data:\n",
        "!mkdir -vp /tmp/dicom_data\n",
        "# We first build a manifest of the series URLS. Each row includes the target directory\n",
        "gcs_urls = []\n",
        "for drsObject in drs_objects:\n",
        "  gcs_url = next(access_method[\"access_url\"][\"url\"] for access_method in drs_object[\"access_methods\"] if access_method[\"type\"]==\"gs\").replace('gs', 's3', 1)\n",
        "  # For s5cmd we need to change \"gs\" to \"s3\"\n",
        "  gcs_urls.append(f'cp {gcs_url} /tmp/dicom_data/.')\n",
        "# Export the manifest to a file\n",
        "with open('/tmp/s5cmd_manifest.s5cmd', \"w\") as f:\n",
        "  for row in aws_urls:\n",
        "    f.write(f'{row}\\n')\n",
        "\n",
        "#Here's what our manifest looks like:\n",
        "! cat /tmp/s5cmd_manifest.s5cmd\n"
      ],
      "metadata": {
        "id": "2Bv4tT-DIUJB"
      },
      "execution_count": null,
      "outputs": []
    },
    {
      "cell_type": "markdown",
      "source": [
        "Now we copy the instances to our local disk:"
      ],
      "metadata": {
        "id": "gnCZ-VCzMvZk"
      }
    },
    {
      "cell_type": "code",
      "source": [
        "# Execute s5cmd\n",
        "! ./s5cmd --no-sign-request --endpoint-url https://s3.amazonaws.com run /tmp/s5cmd_manifest.s5cmd\n",
        "! ls -l /tmp/dicom_data\n",
        "# Delete the directory and contents\n",
        "! rm -vr /tmp/dicom_data"
      ],
      "metadata": {
        "id": "vNzgVnK9M2Ib"
      },
      "execution_count": null,
      "outputs": []
    }
  ]
}
