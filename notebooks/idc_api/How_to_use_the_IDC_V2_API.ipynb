{
  "nbformat": 4,
  "nbformat_minor": 0,
  "metadata": {
    "colab": {
      "provenance": [],
      "toc_visible": true,
      "include_colab_link": true
    },
    "kernelspec": {
      "name": "python3",
      "display_name": "Python 3"
    }
  },
  "cells": [
    {
      "cell_type": "markdown",
      "metadata": {
        "id": "view-in-github",
        "colab_type": "text"
      },
      "source": [
        "<a href=\"https://colab.research.google.com/github/ImagingDataCommons/IDC-Tutorials/blob/master-whc/notebooks/idc_api/How_to_use_the_IDC_V2_API.ipynb\" target=\"_parent\"><img src=\"https://colab.research.google.com/assets/colab-badge.svg\" alt=\"Open In Colab\"/></a>"
      ]
    },
    {
      "cell_type": "markdown",
      "metadata": {
        "id": "7r7hxORgipCk"
      },
      "source": [
        "# How to Use the IDC V2 API"
      ]
    },
    {
      "cell_type": "markdown",
      "metadata": {
        "id": "-R7dcBPHjB9b"
      },
      "source": [
        "## Overview of this notebook\n",
        "This notebook is designed as a quick introduction to version 2 of the IDC API and how to access it from Python.\n",
        "\n",
        "Topics covered:\n",
        "* Overviews of APIs, Swagger, JSON, endpoints\n",
        "* Use cases for IDC APIs\n",
        "* Examples of IDC API endpoints"
      ]
    },
    {
      "cell_type": "markdown",
      "metadata": {
        "id": "6BPfIN_KjVSP"
      },
      "source": [
        "### Overview of APIs\n",
        "An API or application-programming interface is a software intermediary that allows two applications to talk to each other. In other words, an API is the messenger that delivers your request to the provider that you’re requesting it from and then delivers the response back to you [(Wikipedia)](https://en.wikipedia.org/wiki/Application_programming_interface). Each action that an API can take is called an \"endpoint\".\n",
        "\n",
        "Some useful tutorials and quick start guides on APIs are:\n",
        "* [GDC's Getting Started guide for APIs](https://docs.gdc.cancer.gov/API/Users_Guide/Getting_Started/)\n",
        "* [API Integration in Python](https://realpython.com/api-integration-in-python/)\n",
        "* [Python API Tutorial: Getting Started with APIs](https://www.dataquest.io/blog/python-api-tutorial/)"
      ]
    },
    {
      "cell_type": "markdown",
      "metadata": {
        "id": "0pvtxR9piA8d"
      },
      "source": [
        "### What is an HTTP Message?\n",
        "\n",
        "Clients and the IDC API server communicate via HTTP messages. An overview of HTTP messaging can be found [here](https://developer.mozilla.org/en-US/docs/Web/HTTP/Messages).\n",
        "The IDC API uses the GET, POST and DELETE HTTP methods."
      ]
    },
    {
      "cell_type": "markdown",
      "metadata": {
        "id": "XwOE_7aXkIqD"
      },
      "source": [
        "### What is JSON?\n",
        "\n",
        "JSON  or JavaScript Object Notation is a lightweight data-interchange format that is easy for humans and machines to work with. More information can be found at [json.org](https://www.json.org/)."
      ]
    },
    {
      "cell_type": "markdown",
      "metadata": {
        "id": "xA89089NjvXG"
      },
      "source": [
        "### What is SwaggerUI?\n",
        "\n",
        "[SwaggerUI](https://swagger.io/tools/swagger-ui/) is a user interface that allows users to try out the APIs and view their documentation easily. You can access the IDC API SwaggerUI [here](https://api.imaging.datacommons.cancer.gov/v1/swagger)."
      ]
    },
    {
      "cell_type": "markdown",
      "metadata": {
        "id": "BKVdyqJIj3Vv"
      },
      "source": [
        "### What is an endpoint?\n",
        "\n",
        "An endpoint is the *call* for a specific functionally of an API. For example, `/collections` at the end of the API request URL `https://api.imaging.datacommons.cancer.gov/v2/collections` is an endpoint that returns (or GETs) information about the available IDC collections."
      ]
    },
    {
      "cell_type": "markdown",
      "metadata": {
        "id": "lUBjUmW0b4yM"
      },
      "source": [
        "###IDC API Documentation\n",
        "\n",
        "Detailed documentation on the IDC API can be found in the [API](https://learn.canceridc.dev/api/getting-started) section of the [IDC User Guide](https://learn.canceridc.dev/ps://)."
      ]
    },
    {
      "cell_type": "markdown",
      "metadata": {
        "id": "q2oDuqk-m_n9"
      },
      "source": [
        "### IDC API URL Preamble\n",
        "For convenience, we define the IDC API URL preamble as a variable."
      ]
    },
    {
      "cell_type": "code",
      "metadata": {
        "id": "6YJby7wJnYE7"
      },
      "source": [
        "idc_api_preamble = 'https://api.imaging.datacommons.cancer.gov/v2'"
      ],
      "execution_count": null,
      "outputs": []
    },
    {
      "cell_type": "markdown",
      "metadata": {
        "id": "EwGFbzkqk--J"
      },
      "source": [
        "### Python library `requests`\n",
        "\n",
        "We use the Python Requests HTTP library to access IDC API endpoints."
      ]
    },
    {
      "cell_type": "code",
      "metadata": {
        "id": "TV37C4SrlHvD"
      },
      "source": [
        "# Install requests if needed\n",
        "# pip install requests\n",
        "\n",
        "# Import the requests library\n",
        "import requests"
      ],
      "execution_count": null,
      "outputs": []
    },
    {
      "cell_type": "markdown",
      "source": [
        "Finally, we will define a simple pretty-printing function to print out the information that we have receive from the API."
      ],
      "metadata": {
        "id": "F8xdrUWPehzj"
      }
    },
    {
      "cell_type": "code",
      "metadata": {
        "id": "VdfTOEQeouiL"
      },
      "source": [
        "# import json\n",
        "import json\n",
        "def pretty(response):\n",
        "  print(json.dumps(response.json(), sort_keys=True, indent=4))\n"
      ],
      "execution_count": null,
      "outputs": []
    },
    {
      "cell_type": "markdown",
      "metadata": {
        "id": "uCce3LIXmGgc"
      },
      "source": [
        "## Example: `/about` GET Endpoint\n",
        "\n"
      ]
    },
    {
      "cell_type": "markdown",
      "metadata": {
        "id": "kbA3GWUSmPlr"
      },
      "source": [
        "We are first going to explore the `about` endpoint using the 'GET' request to the API. This endpoint will give you such information about the IDC API as links to the Swagger UI interface and to the IDC User Guide."
      ]
    },
    {
      "cell_type": "code",
      "metadata": {
        "id": "C3Ixom20mVrh"
      },
      "source": [
        "# First submit the 'get' request to the API\n",
        "response = requests.get('{}/about'.format(idc_api_preamble))"
      ],
      "execution_count": null,
      "outputs": []
    },
    {
      "cell_type": "markdown",
      "metadata": {
        "id": "UicHIX71kLw3"
      },
      "source": [
        "Now that we have the request response, we check that the request was successful. If the request was successful, then the status code will come back as 200, but if something went wrong then the status code may be something 404 or 503. If you have received any error codes, you can check out Google's Troubleshooting response errors guide.\n",
        "\n"
      ]
    },
    {
      "cell_type": "code",
      "metadata": {
        "id": "3UORb5Pqoh0I"
      },
      "source": [
        "# Check that there wasn't an error with the request\n",
        "if response.status_code != 200:\n",
        "    # Print the error code and message if something went wrong\n",
        "    print('Request failed: {}'.format(response.reason))\n",
        "\n",
        "\n",
        "# Print the response\n",
        "pretty(response)"
      ],
      "execution_count": null,
      "outputs": []
    },
    {
      "cell_type": "markdown",
      "metadata": {
        "id": "6_6wZG1ipAbZ"
      },
      "source": [
        "The requests library makes it easy to use the API. Next we will cover a few of the other informational APIs."
      ]
    },
    {
      "cell_type": "markdown",
      "source": [
        "# Getting API metadata\n",
        "Several API endpoints can be used to obtain metadata about IDC hosted data. Some of the metadata is also used in the parameterization of other API endpoints."
      ],
      "metadata": {
        "id": "KMf4IKpyVzTV"
      }
    },
    {
      "cell_type": "markdown",
      "metadata": {
        "id": "p6eV4z_IpZgH"
      },
      "source": [
        "## `/versions` GET endpoint"
      ]
    },
    {
      "cell_type": "markdown",
      "metadata": {
        "id": "pil_CrXbpvIY"
      },
      "source": [
        "IDC data is organized as a hierarchy. The top level of the hierarchy is the IDC version. An IDC version is a set of collections, and where a collection is a set of DICOM data, often resulting from some investigation. Lower levels in the hierarchy...patient, study, series, instance...follow the DICOM model of the real world.   \n",
        "\n",
        "Over time, the set of collections and the data in collections may change. For the most part, such changes will be due to new data having been added. The totality of available IDC hosted data resulting from any such change is represented by a unique IDC data version ID. That is, each time that the set of publicly available data changes, a new IDC version is created that exactly defines the revised data set.\n",
        "\n",
        "The IDC data version is intended to enable the reproducibility of research results. For example, consider a patient in the DICOM data model. Over time, new studies might be performed on a patient and become associated with that patient, and with the corresponding DICOM instances added to the IDC hosted data. Or additional patients might  be added to some collection over time. This means that the set of patients defined by some search operation (as defined by a \"filter set\") will change over time. Thus, for purposes of reproducibility, we define a `cohort` in terms of a filter set **and** an IDC data version:"
      ]
    },
    {
      "cell_type": "code",
      "metadata": {
        "id": "kEMvm_xwssF0"
      },
      "source": [
        "# Retrieve the response from the API endpoint\n",
        "response = requests.get('{}/versions'.format(idc_api_preamble))\n",
        "\n",
        "# Check that there wasn't an error with the request\n",
        "if response.status_code != 200:\n",
        "  # Print the error code and message if something went wrong\n",
        "  print(response.json())  # Print the error code if something went wrong\n",
        "\n",
        "# Print the versions JSON text\n",
        "pretty(response)"
      ],
      "execution_count": null,
      "outputs": []
    },
    {
      "cell_type": "markdown",
      "metadata": {
        "id": "HnyYUezztRGU"
      },
      "source": [
        "At the time of this writing there are 21 IDC versions. The current or active version is idc_data_version 21.0."
      ]
    },
    {
      "cell_type": "markdown",
      "metadata": {
        "id": "e_Ex8JRly0QH"
      },
      "source": [
        "## `/collections` GET endpoint"
      ]
    },
    {
      "cell_type": "markdown",
      "metadata": {
        "id": "Ol6C9O-JxYz1"
      },
      "source": [
        "The /collections endpoint returns data about all the collections for the current IDC data version.\n"
      ]
    },
    {
      "cell_type": "code",
      "metadata": {
        "id": "AsmNpqYtyxl0"
      },
      "source": [
        "\n",
        "response = requests.get('{}/collections'.format(idc_api_preamble))\n",
        "# Check that there wasn't an error with the request\n",
        "if response.status_code != 200:\n",
        "    # Print the error code and message if something went wrong\n",
        "    print('Request failed: {}'.format(response.reason))\n",
        "\n",
        "# Print the versions JSON text\n",
        "pretty(response)"
      ],
      "execution_count": null,
      "outputs": []
    },
    {
      "cell_type": "markdown",
      "source": [
        "## `/analysis_results` GET endpoint"
      ],
      "metadata": {
        "id": "uJtwbh7mifoM"
      }
    },
    {
      "cell_type": "markdown",
      "metadata": {
        "id": "z0EnRfsdX2WW"
      },
      "source": [
        "An Analysis Result is a kind of collection comprised of derived DICOM data that was generated by analyzing other (usually Original) collections.\n",
        "\n",
        "The /analysis_results API returns metadata for each available analysis result."
      ]
    },
    {
      "cell_type": "code",
      "source": [
        "# Retrieve the response from the API endpoint\n",
        "response = requests.get('{}/analysis_results'.format(idc_api_preamble))\n",
        "\n",
        "# Check that there wasn't an error with the request\n",
        "if response.status_code != 200:\n",
        "  # Print the error code and message if something went wrong\n",
        "  print(response.json())  # Print the error code if something went wrong\n",
        "\n",
        "# Print the versions JSON text\n",
        "pretty(response)"
      ],
      "metadata": {
        "id": "QKsTbvvUinwg"
      },
      "execution_count": null,
      "outputs": []
    },
    {
      "cell_type": "markdown",
      "source": [
        "## /filters GET endpoint"
      ],
      "metadata": {
        "id": "G6J_yj1OTOD2"
      }
    },
    {
      "cell_type": "markdown",
      "source": [
        "As mentioned earlier, and described in the IDC User Guide, a cohort is defined in terms of a filterset.  \n",
        "\n",
        "A filterset is a list of filters, where each filter is given as a JSON encoded dict having the form:\n",
        "```\n",
        "{ attribute: [value,...]}\n",
        "```\n",
        "For example:\n",
        "{\"Modality\": [\"MR\", \"PT\"]}\n",
        "\n",
        "The filters endpoint returns a list of the available filter attributes. The filter attributes correspond to columns in BQ tables and are grouped by the table in which found:"
      ],
      "metadata": {
        "id": "qgnUDdG1TWvV"
      }
    },
    {
      "cell_type": "code",
      "source": [
        "# Retrieve the response from the API endpoint\n",
        "response = requests.get('{}/filters'.format(idc_api_preamble))\n",
        "\n",
        "# Check that there wasn't an error with the request\n",
        "if response.status_code != 200:\n",
        "  # Print the error code and message if something went wrong\n",
        "  print(response.json())  # Print the error code if something went wrong\n",
        "\n",
        "# Print the collections JSON text\n",
        "pretty(response)"
      ],
      "metadata": {
        "id": "dnCJBrS7oIib"
      },
      "execution_count": null,
      "outputs": []
    },
    {
      "cell_type": "markdown",
      "source": [
        "The name of each attribute is returned along with its type and units where appropriate."
      ],
      "metadata": {
        "id": "kMHdSfuvrH9B"
      }
    },
    {
      "cell_type": "markdown",
      "source": [
        "## <k>/</k>filters/values/{filter} GET endpoint\n",
        "\n",
        "\n",
        "\n"
      ],
      "metadata": {
        "id": "SfS3SNDWoRCI"
      }
    },
    {
      "cell_type": "markdown",
      "source": [
        "Some filters recognize only certain defined values. The /<wbr>filters/values/{attribute} endpoint returns the values accepted by a specified filter attribute. Only attributes having a data_type of Categorical String, Ranged Integer or Ranged Number are accepted. The data_type of each field is returned by the /filters endpoint.\n",
        "\n",
        "For example, the following gets the values accepted by the *Modality* Categorical String filter attribute:"
      ],
      "metadata": {
        "id": "sSuqjEudo4Kv"
      }
    },
    {
      "cell_type": "code",
      "source": [
        "# Retrieve the response from the API endpoint\n",
        "filter = 'Modality'\n",
        "response = requests.get(f'{idc_api_preamble}/filters/values/{filter}')\n",
        "\n",
        "# Check that there wasn't an error with the request\n",
        "if response.status_code != 200:\n",
        "  # Print the error code and message if something went wrong\n",
        "  print(f'{response.reason}: {response.json()[\"message\"]}')  # Print the error code if something went wrong\n",
        "\n",
        "# Print the collections JSON text\n",
        "pretty(response)"
      ],
      "metadata": {
        "id": "qyunReaCstZR"
      },
      "execution_count": null,
      "outputs": []
    },
    {
      "cell_type": "markdown",
      "source": [
        "## /fields GET endpoint\n",
        "The IDC API V2 enables getting a manifest of metadata about the objects in some cohort. The kinds of metadata to be included in a manifest are specified as a list of `fields`. The `fields` endpoint returns a list of available fields.\n",
        "\n",
        "The set of available fields is version dependent, therefore the endpoint includes a version parameter. IDC versions are of the form `<major version>.<minor version>`. To date, the `<minor version>` is always 0:"
      ],
      "metadata": {
        "id": "nBSho3w4ACax"
      }
    },
    {
      "cell_type": "code",
      "source": [
        "# Retrieve the response from the API endpoint\n",
        "response = requests.get(f'{idc_api_preamble}/fields/21.0')\n",
        "\n",
        "# Check that there wasn't an error with the request\n",
        "if response.status_code != 200:\n",
        "  # Print the error code and message if something went wrong\n",
        "  print(response.json())  # Print the error code if something went wrong\n",
        "\n",
        "# Print the collections JSON text\n",
        "pretty(response)"
      ],
      "metadata": {
        "id": "nqGhIXyMA6Up",
        "collapsed": true
      },
      "execution_count": null,
      "outputs": []
    },
    {
      "cell_type": "markdown",
      "source": [
        "If the string 'current' is passed as the version, the fields of the current IDC version are returned:"
      ],
      "metadata": {
        "id": "gJ8ZCqvIVACC"
      }
    },
    {
      "cell_type": "code",
      "source": [
        "# Retrieve the response from the API endpoint\n",
        "response = requests.get(f'{idc_api_preamble}/fields/current')\n",
        "\n",
        "# Check that there wasn't an error with the request\n",
        "if response.status_code != 200:\n",
        "  # Print the error code and message if something went wrong\n",
        "  print(response.json())  # Print the error code if something went wrong\n",
        "\n",
        "# Print the collections JSON text\n",
        "pretty(response)"
      ],
      "metadata": {
        "id": "Pxbejy9JU74y"
      },
      "execution_count": null,
      "outputs": []
    },
    {
      "cell_type": "markdown",
      "source": [
        "# Obtaining a manifest of a cohort\n",
        "\n",
        "As described in detail in the [IDC User Guide](https://colab.research.google.com/corgiredirector?site=https%3A%2F%2Flearn.canceridc.dev%2Fps%3A%2F%2F), a cohort is the set of instances defined by some filterset, and a manifest is a table of selected metadata about the objects in a cohort. The metadata that can be included in a manifest obtained from the API can have more fields than a manifest obtained from the IDC web app."
      ],
      "metadata": {
        "id": "t33f5m-VwoKQ"
      }
    },
    {
      "cell_type": "markdown",
      "metadata": {
        "id": "mC2NcjdtaGDy"
      },
      "source": [
        "The POST /<wbr>cohorts/manifest/preview endpoint defines a cohort and returns a manifest for that cohort. A cohort is never actually created and saved. In the following we obtain a manifest for a cohort. The manifestPreviewBody includes a cohort_def object that defines the cohort, a fields object that specifies the metadata to be included in the manifest, and some additional elements described later.\n",
        "\n"
      ]
    },
    {
      "cell_type": "code",
      "metadata": {
        "id": "NmLDCwyMrKIW",
        "collapsed": true
      },
      "source": [
        "fields = [\n",
        "  'collection_id',\n",
        "  'modality',\n",
        "  'race',\n",
        "  'age_at_diagnosis',\n",
        "  'studyinstanceuid',\n",
        "]\n",
        "\n",
        "filters = {\n",
        "    \"collection_id\": [\n",
        "      \"tcga_luad\",\n",
        "      \"tcga_kirc\"\n",
        "    ],\n",
        "    \"Modality\": [\n",
        "      \"CT\",\n",
        "      \"MR\"\n",
        "    ],\n",
        "    \"race\": [\n",
        "      \"WHITE\"\n",
        "    ],\n",
        "    \"age_at_diagnosis_btw\": [\n",
        "      65,\n",
        "      75\n",
        "    ]\n",
        "  }\n",
        "\n",
        "\n",
        "mimetype = 'application/json'\n",
        "headers = {\n",
        "    'Accept': mimetype,\n",
        "    'Content-Type': mimetype\n",
        "    }\n",
        "\n",
        "cohortSpec = {\"name\": \"testcohort\",\n",
        "              \"description\": \"Test description\",\n",
        "              \"filters\": filters}\n",
        "\n",
        "manifestPreviewBody = {\n",
        "  \"cohort_def\": cohortSpec,\n",
        "  \"fields\": fields,\n",
        "  \"counts\": True,\n",
        "  \"group_size\": True,\n",
        "  \"sql\": True,\n",
        "  'page_size': 10\n",
        "}\n",
        "\n",
        "response = requests.post(f'{idc_api_preamble}/cohorts/manifest/preview',\n",
        "                      data=json.dumps(manifestPreviewBody), headers=headers)\n",
        "\n",
        "# Check that there wasn't an error with the request\n",
        "if response.status_code != 200:\n",
        "    # Print the error code and message if something went wrong\n",
        "    print('Request failed: {}'.format(response.reason))\n",
        "else:\n",
        "  # Print the list of cohorts\n",
        "  pretty(response)"
      ],
      "execution_count": null,
      "outputs": []
    },
    {
      "cell_type": "markdown",
      "metadata": {
        "id": "b9--y7MbtM3j"
      },
      "source": [
        "This is a \"study granularity\" manifest because the filterset does not include instance or series level filters (SOPInstanceUID, crdc_sop_uuid, gcs_url, aws_url, SeriesInstanceUID, crdc_series_uuid). See the IDC User Guide for an in-depth discussion of manifest granulariy.\n",
        "\n",
        "Because the manifest has study granularity, and because the counts element in the manifestPreviewBody is `true`, each row includes the number of series (series_count) and the number of instances (instance_count) having the values of the reported fields. E.G., the first row of the manifest shows that 2 series and 54 instances have the 'CT' modality, are in the study having StudyInstanceUID \"1.3.6.1.4.1.14519.5.2.1.8421.4004.694473393945766391895523698595\", etc.\n",
        "\n",
        "Because the group_size parameter in the manifestPreviewBody is `true`, each row includes a group_size value. This is the size, in bytes, of all instances in the group having the specified filter values.\n",
        "\n",
        "Because the sql parameter is `true`, the Google BigQuery (BQ) SQL that generated the manifest is included in the cohort_def:\n",
        "\n"
      ]
    },
    {
      "cell_type": "code",
      "source": [
        "for line in response.json()[\"cohort_def\"][\"sql\"].split('\\n'):\n",
        "  print(line)"
      ],
      "metadata": {
        "id": "ZTcW5j8aBUXr"
      },
      "execution_count": null,
      "outputs": []
    },
    {
      "cell_type": "markdown",
      "source": [
        "The `counts` parameter is 10,  but the response shows that there are a total of 105 rows in the manifest. Therefore the response includes a `next_page` token. This token can be submitted to the /<wbr>cohorts/manifest/preview/nextPage endpoint to obtain additional rows of the manifest"
      ],
      "metadata": {
        "id": "_oKI2i4YIH5G"
      }
    },
    {
      "cell_type": "code",
      "source": [
        "next_page_token = response.json()['next_page']\n",
        "print(next_page_token)\n",
        "\n",
        "params = {\n",
        "    \"next_page\": next_page_token,\n",
        "    \"page_size\": 10\n",
        "}\n",
        "print(params)\n",
        "next_page_response = requests.get(f'{idc_api_preamble}/cohorts/manifest/preview/nextPage',\n",
        "                      params=params, headers=headers)\n",
        "\n",
        "# Check that there wasn't an error with the request\n",
        "if next_page_response.status_code != 200:\n",
        "    # Print the error code and message if something went wrong\n",
        "    print('Request failed: {}'.format(response.reason))\n",
        "else:\n",
        "  # Print the list of cohorts\n",
        "  pretty(next_page_response)"
      ],
      "metadata": {
        "id": "Xeedw-M9ja8_"
      },
      "execution_count": null,
      "outputs": []
    },
    {
      "cell_type": "markdown",
      "source": [
        "# Obtaining IDC DICOM data\n",
        "An important goal of these manifests is to provide the information needed to obtain copy IDC DICOM data, specifically DICOM instance data, from GCS or AWS.\n",
        "\n",
        "Each version of each IDC DICOM series is assigned a unique crdc_series_uuid. Similarly, each version of each IDC DICOM instance is assigned a unique crdc_instance_uuid. (To be specific, these are Version 4 UUIDs).\n",
        "\n",
        "IDC uses these UUIDs to uniquely and hierarchically name each version of each IDC DICOM instance. The names of IDC instances in GCS and in AWS are, respectively, of the form:\n",
        "\n",
        "* gs://\\<bucket\\>/\\<crdc_series_uuid\\>/\\<crdc_instance_uid\\>.dcm\n",
        "* s3://\\<bucket\\>/\\<crdc_series_uuid\\>/\\<crdc_instance_uid\\>.dcm\n",
        "\n",
        "Specifying `gcs_url` and/or `aws_url` as fields, will include these values in a manifest:\n"
      ],
      "metadata": {
        "id": "qaoAUbOOuNfi"
      }
    },
    {
      "cell_type": "markdown",
      "source": [
        "## Instance level access\n",
        "The gcs_url and aws_url fields provide the GCS and AWS URL respectively of each instance in the cohort. For example:"
      ],
      "metadata": {
        "id": "uO-f5RB4H7BC"
      }
    },
    {
      "cell_type": "code",
      "source": [
        "filters = {\n",
        "    \"collection_id\": [\n",
        "      \"tcga_luad\",\n",
        "      \"tcga_kirc\"\n",
        "    ],\n",
        "    \"Modality\": [\n",
        "      \"CT\",\n",
        "      \"MR\"\n",
        "    ],\n",
        "    \"race\": [\n",
        "      \"WHITE\"\n",
        "    ],\n",
        "    \"age_at_diagnosis_btw\": [\n",
        "      65,\n",
        "      75\n",
        "    ]\n",
        "  }\n",
        "\n",
        "mimetype = 'application/json'\n",
        "headers = {\n",
        "    'Accept': mimetype,\n",
        "    'Content-Type': mimetype\n",
        "    }\n",
        "\n",
        "cohortSpec = {\"name\": \"testcohort\",\n",
        "              \"description\": \"Test description\",\n",
        "              \"filters\": filters}\n",
        "\n",
        "fields = [\n",
        "    \"gcs_url\",\n",
        "    \"aws_url\"\n",
        "]\n",
        "\n",
        "manifestPreviewBody = {\n",
        "  \"cohort_def\": cohortSpec,\n",
        "  \"fields\": fields,\n",
        "  \"page_size\": 10\n",
        "}\n",
        "\n",
        "urls = requests.post(f'{idc_api_preamble}/cohorts/manifest/preview',\n",
        "                      data=json.dumps(manifestPreviewBody), headers=headers)\n",
        "\n",
        "# Check that there wasn't an error with the request\n",
        "if urls.status_code != 200:\n",
        "    # Print the error code and message if something went wrong\n",
        "    print('Request failed: {}'.format(urls.reason))\n",
        "else:\n",
        "  # Print the list of cohorts\n",
        "  pretty(urls)"
      ],
      "metadata": {
        "id": "3VUEaRDv-RQm"
      },
      "execution_count": null,
      "outputs": []
    },
    {
      "cell_type": "markdown",
      "source": [
        "Given a gcs_url, there are various methods and tools, such as gsutil and curl, for obtaining the corresponding DICOM object, e.g.:\n",
        "\n",
        "* gsutil -u {project_id} cp gs://{bucket}/{object_name}\n",
        "* curl -X GET -H \"Authorization: Bearer {oauth2_token}\" -o {save_location} -k \"https:<k>//</k>storage.googleapis.org/storage/v1/b/{bucket}/o/{object_name}?userProject={project_id}\"\n",
        "\n",
        "Instead of a command line tool, we will continue to use the same requests.get() method. For this purpose we need to convert the gs type URL to an https URL:"
      ],
      "metadata": {
        "id": "fBiTidEVBina"
      }
    },
    {
      "cell_type": "code",
      "source": [
        "# Get the gs type URL from one of the returned DrsObjects\n",
        "gcs_url = urls.json()[\"manifest\"][\"manifest_data\"][0]['gcs_url']\n",
        "# Convert the gs type URL to an https type url\n",
        "https_url = gcs_url.replace(\"gs://\", \"https://storage.googleapis.com/\")\n",
        "\n",
        "# Now we can get the DICOM object\n",
        "response = requests.get(https_url)\n",
        "\n",
        "# Check that there wasn't an error with the request\n",
        "if response.status_code != 200:\n",
        "    # Print the error code and message if something went wrong\n",
        "    print('Request failed: {}'.format(response.reason))\n"
      ],
      "metadata": {
        "id": "AN18u0rv_VPy"
      },
      "execution_count": null,
      "outputs": []
    },
    {
      "cell_type": "markdown",
      "metadata": {
        "id": "rbgfE53lIXGb"
      },
      "source": [
        "To verify that we have downloaded the instance, we will inspect it using the pydicom package."
      ]
    },
    {
      "cell_type": "code",
      "metadata": {
        "id": "06t66_XFtgKo"
      },
      "source": [
        "!pip install pydicom\n",
        "import pydicom"
      ],
      "execution_count": null,
      "outputs": []
    },
    {
      "cell_type": "markdown",
      "metadata": {
        "id": "VXjtOs_eIn2i"
      },
      "source": [
        "We can access the instance while it is in memory by converting the returned bytes to a binary I/O stream."
      ]
    },
    {
      "cell_type": "code",
      "metadata": {
        "id": "z8LULbS6tTpF"
      },
      "source": [
        "import io\n",
        "dcm = io.BytesIO(response.content)"
      ],
      "execution_count": null,
      "outputs": []
    },
    {
      "cell_type": "markdown",
      "metadata": {
        "id": "ijFqPEk3SlS9"
      },
      "source": [
        "Then we read the object and dump its contents."
      ]
    },
    {
      "cell_type": "code",
      "metadata": {
        "id": "Yy9TfwzPGG8U",
        "collapsed": true
      },
      "source": [
        "print(pydicom.dcmread(dcm))"
      ],
      "execution_count": null,
      "outputs": []
    },
    {
      "cell_type": "markdown",
      "source": [
        "The process for getting the DICOM object from an AWS bucket is similar:"
      ],
      "metadata": {
        "id": "kdsSV-02GVDC"
      }
    },
    {
      "cell_type": "code",
      "source": [
        "# Get the gs type URL from one of the returned DrsObjects\n",
        "aws_url = urls.json()[\"manifest\"][\"manifest_data\"][1]['aws_url']\n",
        "# Convert the s3 type URL to an https type url\n",
        "https_url = aws_url.replace(\"s3://\", \"https://s3.amazonaws.com/\")\n",
        "\n",
        "# Now we can get the DICOM object\n",
        "response = requests.get(https_url)\n",
        "\n",
        "# Check that there wasn't an error with the request\n",
        "if response.status_code != 200:\n",
        "    # Print the error code and message if something went wrong\n",
        "    print('Request failed: {}'.format(response.reason))\n"
      ],
      "metadata": {
        "id": "1WSeguU4GeEp"
      },
      "execution_count": null,
      "outputs": []
    },
    {
      "cell_type": "markdown",
      "source": [
        "Read the object and dump its contents."
      ],
      "metadata": {
        "id": "k6VZzx-sHUrl"
      }
    },
    {
      "cell_type": "code",
      "source": [
        "dcm = io.BytesIO(response.content)\n",
        "print(pydicom.dcmread(dcm))"
      ],
      "metadata": {
        "id": "ulbbgMc7G7i_",
        "collapsed": true
      },
      "execution_count": null,
      "outputs": []
    },
    {
      "cell_type": "markdown",
      "source": [
        "## Series level access\n",
        "\n",
        "Some tools can take advantage of the hierachical naming of instances to copy all instances in a series, given just the bucket name and `crdc_series_instance`. We will demonstrate using the `s5cmd` tool for this purpose.\n",
        "\n",
        "First we generate a manifest that includes just the bucket and crdc_series_uuids. (We reduced the size of the cohort for demonstration purposes by changeing filter.):"
      ],
      "metadata": {
        "id": "zRfDMj_OH_EX"
      }
    },
    {
      "cell_type": "code",
      "source": [
        "filters = {\n",
        "    \"collection_id\": [\n",
        "      \"tcga_luad\",\n",
        "      \"tcga_kirc\"\n",
        "    ],\n",
        "    \"Modality\": [\n",
        "      \"CT\",\n",
        "      \"MR\"\n",
        "    ],\n",
        "    \"race\": [\n",
        "      \"WHITE\"\n",
        "    ],\n",
        "    \"age_at_diagnosis_eq\": [\n",
        "      34\n",
        "    ]\n",
        "  }\n",
        "\n",
        "mimetype = 'application/json'\n",
        "headers = {\n",
        "    'Accept': mimetype,\n",
        "    'Content-Type': mimetype\n",
        "    }\n",
        "\n",
        "cohortSpec = {\"name\": \"testcohort\",\n",
        "              \"description\": \"Test description\",\n",
        "              \"filters\": filters}\n",
        "\n",
        "fields = [\n",
        "    \"gcs_bucket\",\n",
        "    \"aws_bucket\",\n",
        "    \"crdc_series_uuid\"\n",
        "]\n",
        "\n",
        "manifestPreviewBody = {\n",
        "  \"cohort_def\": cohortSpec,\n",
        "  \"fields\": fields\n",
        "}\n",
        "\n",
        "series_uuids = requests.post(f'{idc_api_preamble}/cohorts/manifest/preview',\n",
        "                      data=json.dumps(manifestPreviewBody), headers=headers)\n",
        "\n",
        "# Check that there wasn't an error with the request\n",
        "if series_uuids.status_code != 200:\n",
        "    # Print the error code and message if something went wrong\n",
        "    print('Request failed: {}'.format(series_uuids.reason))\n",
        "else:\n",
        "  # Print the list of cohorts\n",
        "  pretty(series_uuids)"
      ],
      "metadata": {
        "id": "rs7T8m34PvE-"
      },
      "execution_count": null,
      "outputs": []
    },
    {
      "cell_type": "markdown",
      "source": [
        "We'll use the [s5cmd](https://github.com/peak/s5cmd) tool to copy the instances in this manifest from GCS and AWS buckets to the local device. Install s5cmd:"
      ],
      "metadata": {
        "id": "sXdW3TfXbxqv"
      }
    },
    {
      "cell_type": "code",
      "source": [
        "!curl -o s5cmd.tar.gz -L https://github.com/peak/s5cmd/releases/download/v2.2.2/s5cmd_2.2.2_Linux-32bit.tar.gz\n",
        "!tar zxf s5cmd.tar.gz"
      ],
      "metadata": {
        "id": "Pdp9uk8OclY3"
      },
      "execution_count": null,
      "outputs": []
    },
    {
      "cell_type": "markdown",
      "source": [
        "We first show how to copy all the instances in a single series using s5cmd. s5cmd expects `s3` type URLs (`s3://...`) for both AWS and GCS. The `--endpoint-url` parameter controls whether s5cmd accesses an AWS or a GCS bucket. We'll demonstrate by first copying from AWS:"
      ],
      "metadata": {
        "id": "ocomdR4dfHGV"
      }
    },
    {
      "cell_type": "code",
      "source": [
        "# Get the data from the first row of the manifest\n",
        "series_data = series_uuids.json()['manifest']['manifest_data'][0]\n",
        "# Construct the URL\n",
        "aws_url = f's3://{series_data[\"aws_bucket\"]}/{series_data[\"crdc_series_uuid\"]}/*'\n",
        "print(aws_url)\n",
        "# We need a directory into which to copy the data:\n",
        "!mkdir -vp /tmp/dicom_data\n",
        "# Execute s5cmd\n",
        "!./s5cmd --no-sign-request --endpoint-url https://s3.amazonaws.com cp $aws_url /tmp/dicom_data\n",
        "# Delete the directory and contents\n",
        "!rm -vr /tmp/dicom_data"
      ],
      "metadata": {
        "id": "5n6UTlyyhGCr"
      },
      "execution_count": null,
      "outputs": []
    },
    {
      "cell_type": "markdown",
      "source": [
        "We use a similar script to copy data from GCS. There are two differences:\n",
        "* The URL contains the GCS bucket rather than the AWS bucket\n",
        "* The s5cmd command has a different value for the --endpoint-url parameter\n",
        "\n"
      ],
      "metadata": {
        "id": "lnEKd1-xNZ3Q"
      }
    },
    {
      "cell_type": "code",
      "source": [
        "# Get the data from the first row of the manifest\n",
        "series_data = series_uuids.json()['manifest']['manifest_data'][0]\n",
        "# Construct the URL\n",
        "gcs_url = f's3://{series_data[\"gcs_bucket\"]}/{series_data[\"crdc_series_uuid\"]}/*'\n",
        "print(aws_url)\n",
        "# We need a directory into which to copy the data:\n",
        "!mkdir -vp /tmp/dicom_data\n",
        "# Execute s5cmd\n",
        "!./s5cmd --no-sign-request --endpoint-url https://storage.googleapis.com cp $gcs_url q/tmp/dicom_data\n",
        "# Delete the directory and contents\n",
        "!rm -vr /tmp/dicom_data"
      ],
      "metadata": {
        "id": "AjnxWwehgU7h"
      },
      "execution_count": null,
      "outputs": []
    },
    {
      "cell_type": "markdown",
      "source": [
        "The manifest includes several series. We can get all the data from all the series using the s5cmd `run` command. We first create an s5cmd manifest of series to copy:"
      ],
      "metadata": {
        "id": "JMerNWRsSv-Q"
      }
    },
    {
      "cell_type": "code",
      "source": [
        "# We need a directory into which to copy the data:\n",
        "!mkdir -vp /tmp/dicom_data\n",
        "# We first build an s5cmd manifest of the series URLS. Each row includes the target directory\n",
        "aws_urls = [f'cp s3://{row[\"aws_bucket\"]}/{row[\"crdc_series_uuid\"]}/* /tmp/dicom_data/.' for row in series_uuids.json()['manifest']['manifest_data']]\n",
        "# Export the s5cmd manifest to a file\n",
        "with open('/tmp/s5cmd_manifest.s5cmd', \"w\") as f:\n",
        "  for row in aws_urls:\n",
        "    f.write(f'{row}\\n')\n",
        "# Here's what our s5cmd manifest looks like:\n",
        "! cat /tmp/s5cmd_manifest.s5cmd"
      ],
      "metadata": {
        "id": "n0ioeeS0TDcG"
      },
      "execution_count": null,
      "outputs": []
    },
    {
      "cell_type": "markdown",
      "source": [
        "We can now copy all the instances in the the series in the s5cmd manifest:"
      ],
      "metadata": {
        "id": "fDNaLJRoaNMt"
      }
    },
    {
      "cell_type": "code",
      "source": [
        "\n",
        "# Execute s5cmd\n",
        "! ./s5cmd --no-sign-request --endpoint-url https://s3.amazonaws.com run /tmp/s5cmd_manifest.s5cmd\n",
        "! ls -l /tmp/dicom_data\n",
        "# Delete the directory and contents\n",
        "! rm -vr /tmp/dicom_data"
      ],
      "metadata": {
        "id": "Jzrht70MaN-S"
      },
      "execution_count": null,
      "outputs": []
    },
    {
      "cell_type": "markdown",
      "source": [
        "Copying the entire IDC manifest from GCS is similar."
      ],
      "metadata": {
        "id": "D-X6cTcyppwt"
      }
    },
    {
      "cell_type": "markdown",
      "metadata": {
        "id": "fU_0eXe_yEHL"
      },
      "source": [
        "##Resolving DRS IDs\n",
        "As discussed in the IDC User Guide, it is possible that the gcs_url or aws_url of an IDC DICOM instance can change over time. Therefore such URLs should not be used for long term documentation of the source of data. However, the `DRS ID` of some IDC DICOM instance can always be used to locate the corresponding 'bits' of that instance.\n",
        "\n",
        "A `DRS ID` is a token that can be presented to a `DRS server` to obtain information on accessing some data object represented by that token.\n",
        "Please refer to the [API](https://learn.canceridc.dev/data/organization-of-data/guids-and-uuids) section of the [IDC User Guide](https://learn.canceridc.dev) for further information on `DRS`, `DrsObjects` and DRS `access methods`. In addition, links to DRS specifications can be found [here](https://ga4gh.github.io/data-repository-service-schemas/).\n",
        "\n",
        "For this purpose, a `DRS ID` is 'resolved' to obtain a JSON structure called a `DrsObject`, and which will contain information for accessing the corresponding DICOM instance wherever it is.\n",
        "\n",
        "As it turns out, the `crdc_instance_uuid` of an instance is also its `DRS ID`.We will resolve the `crdc_instance_guid`s of the instances in the cohort which we have been working with, and to obtain their URLs. We will then use s5cmd to copy them to the local file system.\n",
        "\n",
        "We need to change the `fields` in our manifest to obtain the `crdc_instance_uuid`s of the instances in the cohort. For demonstration purposes, we define an even smaller cohort because resolving DRS IDs is relatively slow:\n"
      ]
    },
    {
      "cell_type": "code",
      "source": [
        "filters = {\n",
        "    \"collection_id\": [\n",
        "      \"tcga_luad\",\n",
        "      \"tcga_kirc\"\n",
        "    ],\n",
        "    \"Modality\": [\n",
        "      \"CT\",\n",
        "      \"MR\"\n",
        "    ],\n",
        "    \"race\": [\n",
        "      \"WHITE\"\n",
        "    ],\n",
        "    \"age_at_diagnosis_eq\": [\n",
        "      82\n",
        "    ]\n",
        "  }\n",
        "\n",
        "mimetype = 'application/json'\n",
        "headers = {\n",
        "    'Accept': mimetype,\n",
        "    'Content-Type': mimetype\n",
        "    }\n",
        "\n",
        "cohortSpec = {\"name\": \"testcohort\",\n",
        "              \"description\": \"Test description\",\n",
        "              \"filters\": filters}\n",
        "\n",
        "fields = [\n",
        "  \"crdc_instance_uuid\"\n",
        "]\n",
        "\n",
        "manifestPreviewBody = {\n",
        "  \"cohort_def\": cohortSpec,\n",
        "  \"fields\": fields\n",
        "}\n",
        "\n",
        "instance_uuids = requests.post(f'{idc_api_preamble}/cohorts/manifest/preview',\n",
        "                      data=json.dumps(manifestPreviewBody), headers=headers)\n",
        "\n",
        "# Check that there wasn't an error with the request\n",
        "if instance_uuids.status_code != 200:\n",
        "    # Print the error code and message if something went wrong\n",
        "    print('Request failed: {}'.format(series_uuids.reason))\n",
        "else:\n",
        "  # Print the list of cohorts\n",
        "  pretty(instance_uuids)"
      ],
      "metadata": {
        "id": "InP_EWikvYX5"
      },
      "execution_count": null,
      "outputs": []
    },
    {
      "cell_type": "markdown",
      "source": [
        "Now we can resolve each crdc_instance_uuid/DRS ID. To resolve such a DRS ID, we present it to the CRDC DRS server:"
      ],
      "metadata": {
        "id": "zCBsfaJmav98"
      }
    },
    {
      "cell_type": "code",
      "metadata": {
        "id": "N5FNelsph1OJ"
      },
      "source": [
        "crdc_drs_server_url = \"https://nci-crdc.datacommons.io/ga4gh/drs/v1/objects\"\n",
        "# Create a list of the series GUIDs in the previous response.\n",
        "drs_ids = [row['crdc_instance_uuid'] for row in instance_uuids.json()['manifest']['manifest_data']]\n",
        "# We'll accumulate the DrsObjects here:\n",
        "drs_objects= []\n",
        "# Resolving a GUID simply requires presenting it to the nci-crdc.datacommons.io server.\n",
        "for drs_id in drs_ids:\n",
        "  drs_object = requests.get(f'{crdc_drs_server_url}/{drs_id}').json()\n",
        "  drs_objects.append(drs_object)\n",
        "  print(json.dumps(drs_object, indent=2))"
      ],
      "execution_count": null,
      "outputs": []
    },
    {
      "cell_type": "markdown",
      "metadata": {
        "id": "8YJAHzx9vZ2f"
      },
      "source": [
        "A DrsObject includes an `access_methods` list, each element of which describes one method for accessing the object represented by the DrsObject. The `type` component describes the access method, and the `url` in the `access_url` is a \"fully resolvable URL that can be used to fetch the actual object bytes.\"\n",
        "\n",
        "Note that the `access_id` is used when obtaining a signed URL to the object. IDC's AWS and GCS data do not require a signed URL.\n",
        "\n",
        "In the following we will assemble a manifest for obtaining data from GCS. We'll then use s5cmd to obtain the data objects:"
      ]
    },
    {
      "cell_type": "code",
      "source": [
        "drs_objects"
      ],
      "metadata": {
        "collapsed": true,
        "id": "WL3zsP1zaoao"
      },
      "execution_count": null,
      "outputs": []
    },
    {
      "cell_type": "code",
      "source": [
        "# We need a directory into which to copy the data:\n",
        "!mkdir -vp /tmp/dicom_data\n",
        "# We first build a manifest of the series URLS. Each row includes the target directory\n",
        "gcs_urls = []\n",
        "for drs_object in drs_objects:\n",
        "  # Find the \"gs\" access method. For s5cmd we need to change \"gs\" to \"s3\"\n",
        "  gcs_url = next(access_method[\"access_url\"][\"url\"] for access_method in drs_object[\"access_methods\"] if access_method[\"type\"]==\"gs\").replace('gs', 's3', 1)\n",
        "  print(gcs_url)\n",
        "  print(drs_object)\n",
        "  gcs_urls.append(f'cp {gcs_url} /tmp/dicom_data/.')\n",
        "# Export the manifest to a file\n",
        "with open('/tmp/s5cmd_manifest.s5cmd', \"w\") as f:\n",
        "  for row in gcs_urls:\n",
        "    f.write(f'{row}\\n')\n",
        "\n",
        "#Here's what our manifest looks like:\n",
        "! cat /tmp/s5cmd_manifest.s5cmd\n"
      ],
      "metadata": {
        "id": "2Bv4tT-DIUJB"
      },
      "execution_count": null,
      "outputs": []
    },
    {
      "cell_type": "markdown",
      "source": [
        "Now we copy the instances to our local disk:"
      ],
      "metadata": {
        "id": "gnCZ-VCzMvZk"
      }
    },
    {
      "cell_type": "code",
      "source": [
        "# Execute s5cmd\n",
        "! ./s5cmd --no-sign-request --endpoint-url https://s3.amazonaws.com run /tmp/s5cmd_manifest.s5cmd\n",
        "! ls -l /tmp/dicom_data\n",
        "# Delete the directory and contents\n",
        "! rm -vr /tmp/dicom_data"
      ],
      "metadata": {
        "id": "vNzgVnK9M2Ib"
      },
      "execution_count": null,
      "outputs": []
    }
  ]
}