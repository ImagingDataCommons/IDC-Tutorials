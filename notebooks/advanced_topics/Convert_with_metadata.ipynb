{
 "cells": [
  {
   "cell_type": "markdown",
   "id": "022cf89b",
   "metadata": {},
   "source": [
    "## Adding metadata when converting to DICOM\n",
    "\n",
    "\n",
    "When converting data to DICOM (as described in the conversion tools notebook), DICOM tags can be inserted during conversion, so that experimental metadata is included in the output DICOM dataset. This eliminates the need for a post-processing step to add metadata, which speeds up the total time to create a complete DICOM dataset."
   ]
  },
  {
   "cell_type": "markdown",
   "id": "ef608704",
   "metadata": {},
   "source": [
    "### Recap of required packages"
   ]
  },
  {
   "cell_type": "code",
   "execution_count": null,
   "id": "a55547d9",
   "metadata": {},
   "outputs": [],
   "source": [
    "# Required for downloading data from IDC\n",
    "!pip install idc-index\n",
    "\n",
    "# Install bfconvert via bftools\n",
    "# Install bfconvert via bftools\n",
    "!wget https://downloads.openmicroscopy.org/bio-formats/7.3.1/artifacts/bftools.zip\n",
    "!unzip bftools.zip"
   ]
  },
  {
   "cell_type": "markdown",
   "id": "ed29c909",
   "metadata": {},
   "source": [
    "### Download SVS input data"
   ]
  },
  {
   "cell_type": "code",
   "execution_count": null,
   "id": "44288420",
   "metadata": {},
   "outputs": [],
   "source": [
    "# Download sample data from OpenSlide\n",
    "!wget https://openslide.cs.cmu.edu/download/openslide-testdata/Aperio/CMU-1-Small-Region.svs"
   ]
  },
  {
   "cell_type": "markdown",
   "id": "104fa6a4",
   "metadata": {},
   "source": [
    "### Write supplemental metadata file\n",
    "\n",
    "DICOM tags to be written are provided as a JSON file."
   ]
  },
  {
   "cell_type": "markdown",
   "id": "b4953b13",
   "metadata": {},
   "source": [
    "### Convert SVS to DICOM with supplemental metadata"
   ]
  },
  {
   "cell_type": "code",
   "execution_count": null,
   "id": "724609cf",
   "metadata": {},
   "outputs": [],
   "source": [
    "!./bftools/bfconvert -noflat CMU-1-Small-Region.svs CMU-1.dcm -extra-metadata supplemental-metadata.json"
   ]
  }
 ],
 "metadata": {
  "kernelspec": {
   "display_name": "Python 3",
   "language": "python",
   "name": "python3"
  },
  "language_info": {
   "codemirror_mode": {
    "name": "ipython",
    "version": 3
   },
   "file_extension": ".py",
   "mimetype": "text/x-python",
   "name": "python",
   "nbconvert_exporter": "python",
   "pygments_lexer": "ipython3",
   "version": "3.6.9"
  }
 },
 "nbformat": 4,
 "nbformat_minor": 5
}
