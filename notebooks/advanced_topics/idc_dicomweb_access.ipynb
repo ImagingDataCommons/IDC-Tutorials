{
  "nbformat": 4,
  "nbformat_minor": 0,
  "metadata": {
    "colab": {
      "provenance": [],
      "toc_visible": true,
      "include_colab_link": true
    },
    "kernelspec": {
      "name": "python3",
      "display_name": "Python 3"
    },
    "language_info": {
      "name": "python"
    }
  },
  "cells": [
    {
      "cell_type": "markdown",
      "metadata": {
        "id": "view-in-github",
        "colab_type": "text"
      },
      "source": [
        "<a href=\"https://colab.research.google.com/github/ImagingDataCommons/IDC-Tutorials/blob/master/notebooks/advanced_topics/idc_dicomweb_access.ipynb\" target=\"_parent\"><img src=\"https://colab.research.google.com/assets/colab-badge.svg\" alt=\"Open In Colab\"/></a>"
      ]
    },
    {
      "cell_type": "markdown",
      "source": [
        "# IDC DICOMweb data access for pathology whole-slide images\n",
        "\n",
        "This notebook accompanies the documentation article [IDC DICOMweb data access\n",
        "](tbd) for the NCI Imaging Data Commons, which describes how one can access IDC pathology data using DICOMweb.\n",
        "\n",
        "This notebook solely replicates the content of the code cells from the documentation article above for convenience. Please read the actual article for details!\n",
        "\n",
        "Questions? Ask those at the IDC forum here: https://discourse.canceridc.dev.\n",
        "\n",
        "-----\n",
        "Created: July 2025"
      ],
      "metadata": {
        "id": "JLAWcB6NSqBG"
      }
    },
    {
      "cell_type": "code",
      "source": [
        "%%capture\n",
        "!pip install idc-index --upgrade\n",
        "!pip install wsidicom\n",
        "!pip install ez-wsi-dicomweb"
      ],
      "metadata": {
        "collapsed": true,
        "id": "qw8w0h0CzSDK"
      },
      "execution_count": null,
      "outputs": []
    },
    {
      "cell_type": "markdown",
      "source": [
        "## Unique identifiers: locating the relevant slides"
      ],
      "metadata": {
        "id": "1NbBaRk5B15N"
      }
    },
    {
      "cell_type": "code",
      "source": [
        "from idc_index import IDCClient\n",
        "\n",
        "# Instantiate the client\n",
        "idc_client = IDCClient()\n",
        "idc_client.fetch_index('sm_index')\n",
        "\n",
        "\n",
        "# Filter the slides\n",
        "query = \"\"\"\n",
        "SELECT index.StudyInstanceUID, sm_index.SeriesInstanceUID\n",
        "FROM sm_index\n",
        "JOIN index ON sm_index.SeriesInstanceUID = index.SeriesInstanceUID\n",
        "WHERE Modality = 'SM' AND primaryAnatomicStructure_CodeMeaning = 'Pancreas'\n",
        "\"\"\"\n",
        "\n",
        "pancreas_slides = idc_client.sql_query(query)\n",
        "\n",
        "sample_study_uid = pancreas_slides['StudyInstanceUID'][0]\n",
        "sample_series_uid = pancreas_slides['SeriesInstanceUID'][0]\n",
        "sample_study_uid, sample_series_uid"
      ],
      "metadata": {
        "id": "FFaUM4k4B8Ce"
      },
      "execution_count": null,
      "outputs": []
    },
    {
      "cell_type": "markdown",
      "source": [
        "## wsidicom"
      ],
      "metadata": {
        "id": "yv07GVcvKlOr"
      }
    },
    {
      "cell_type": "code",
      "source": [
        "from dicomweb_client.api import DICOMwebClient\n",
        "from dicomweb_client.ext.gcp.session_utils import create_session_from_gcp_credentials"
      ],
      "metadata": {
        "id": "hiX_D1uvK0b9"
      },
      "execution_count": null,
      "outputs": []
    },
    {
      "cell_type": "markdown",
      "source": [
        "###If accessing Google-maintained DICOM store run the following cell"
      ],
      "metadata": {
        "id": "zv49l-rd9WJd"
      }
    },
    {
      "cell_type": "code",
      "source": [
        "# If accessing the Google-maintained DICOM store, you need to authenticate with your Google credentials first\n",
        "from google.colab import auth\n",
        "auth.authenticate_user()\n",
        "\n",
        "# Create session and build path to DICOM store\n",
        "session = create_session_from_gcp_credentials()\n",
        "\n",
        "# Set-up a DICOMwebClient using the dicomweb_client library\n",
        "google_dicom_store_url = 'https://healthcare.googleapis.com/v1/projects/nci-idc-data/locations/us-central1/datasets/idc/dicomStores/idc-store-v20/dicomWeb'\n",
        "dw_client = DICOMwebClient(\n",
        "    url=google_dicom_store_url,\n",
        "    session = session\n",
        ")"
      ],
      "metadata": {
        "id": "5O__Mxb2NdcM"
      },
      "execution_count": null,
      "outputs": []
    },
    {
      "cell_type": "markdown",
      "source": [
        "###If accessing IDC-maintained DICOM store run the following cell"
      ],
      "metadata": {
        "id": "a_FjalAa9dNk"
      }
    },
    {
      "cell_type": "code",
      "source": [
        "# Set-up a DICOMwebClient using the dicomweb_client library\n",
        "idc_dicom_store_url = 'https://proxy.imaging.datacommons.cancer.gov/current/viewer-only-no-downloads-see-tinyurl-dot-com-slash-3j3d9jyp/dicomWeb'\n",
        "dw_client = DICOMwebClient(url=idc_dicom_store_url)"
      ],
      "metadata": {
        "id": "OIuQct5m1pmM"
      },
      "execution_count": null,
      "outputs": []
    },
    {
      "cell_type": "markdown",
      "source": [
        "### Access"
      ],
      "metadata": {
        "id": "e97NkrwOKq6G"
      }
    },
    {
      "cell_type": "code",
      "execution_count": null,
      "metadata": {
        "id": "vwySAwarzLjP"
      },
      "outputs": [],
      "source": [
        "import wsidicom\n",
        "import matplotlib.pyplot as plt"
      ]
    },
    {
      "cell_type": "code",
      "source": [
        "# Wrap into wsidicom client\n",
        "wsidicom_client = wsidicom.WsiDicomWebClient(dw_client)\n",
        "\n",
        "# Open the slide via DICOMweb interface of wsidicom\n",
        "slide = wsidicom.WsiDicom.open_web(wsidicom_client,\n",
        "    study_uid = sample_study_uid,\n",
        "    series_uids = sample_series_uid\n",
        ")\n",
        "# Investigate existing levels and their dimensions\n",
        "print(slide)"
      ],
      "metadata": {
        "id": "1HDlzeVJ2Wqr"
      },
      "execution_count": null,
      "outputs": []
    },
    {
      "cell_type": "code",
      "source": [
        "# Access and visualize 500x500px subregion at level 4, starting from pixel (1000,1000)\n",
        "region = slide.read_region(location=(1000, 1000), level=4, size=(500, 500))\n",
        "plt.imshow(region)\n",
        "plt.show()"
      ],
      "metadata": {
        "id": "Jo3cwjp0GTpm"
      },
      "execution_count": null,
      "outputs": []
    },
    {
      "cell_type": "markdown",
      "source": [
        "## ez-wsi-dicomweb"
      ],
      "metadata": {
        "id": "kOWYqh04STgt"
      }
    },
    {
      "cell_type": "code",
      "source": [
        "from ez_wsi_dicomweb import dicomweb_credential_factory\n",
        "from ez_wsi_dicomweb import dicom_slide\n",
        "from ez_wsi_dicomweb import local_dicom_slide_cache_types\n",
        "from ez_wsi_dicomweb import dicom_web_interface\n",
        "from ez_wsi_dicomweb import patch_generator\n",
        "from ez_wsi_dicomweb import pixel_spacing\n",
        "from ez_wsi_dicomweb.ml_toolkit import dicom_path"
      ],
      "metadata": {
        "id": "2f0qtLvUKmdB"
      },
      "execution_count": null,
      "outputs": []
    },
    {
      "cell_type": "code",
      "source": [
        "from google.colab import auth\n",
        "auth.authenticate_user()\n",
        "\n",
        "google_dicom_store_url = 'https://healthcare.googleapis.com/v1/projects/nci-idc-data/locations/us-central1/datasets/idc/dicomStores/idc-store-v21/dicomWeb'\n",
        "\n",
        "series_path_str = (\n",
        "      f'{google_dicom_store_url}'\n",
        "      f'/studies/{sample_study_uid}'\n",
        "      f'/series/{sample_series_uid}'\n",
        ")\n",
        "series_path = dicom_path.FromString(series_path_str)\n",
        "dcf = dicomweb_credential_factory.CredentialFactory()\n",
        "dwi = dicom_web_interface.DicomWebInterface(dcf)\n",
        "\n",
        "ds = dicom_slide.DicomSlide(\n",
        "    dwi=dwi,\n",
        "    path=series_path,\n",
        "    enable_client_slide_frame_decompression = True\n",
        "    )\n",
        "\n",
        "# Enable slide frame cache. More information: https://github.com/GoogleCloudPlatform/EZ-WSI-DICOMweb/blob/main/ez_wsi_demo.ipynb\n",
        "ds.init_slide_frame_cache(\n",
        "    optimization_hint=local_dicom_slide_cache_types.CacheConfigOptimizationHint.MINIMIZE_LATENCY\n",
        "    )"
      ],
      "metadata": {
        "id": "DE8jWIbsS6lk"
      },
      "execution_count": null,
      "outputs": []
    },
    {
      "cell_type": "code",
      "source": [
        "# Investigate existing levels and their dimensions\n",
        "for level in ds.levels:\n",
        "    print(f'Level {level.level_index} has pixel dimensions (row, col): {level.height, level.width}')"
      ],
      "metadata": {
        "id": "CzSufDglVc78"
      },
      "execution_count": null,
      "outputs": []
    },
    {
      "cell_type": "code",
      "source": [
        "# Access and visualize 500x500px subregion at level 3, starting from pixel (1000,1000)\n",
        "\n",
        "level = ds.get_level_by_index(3)\n",
        "region = ds.get_patch(level=level, x=1000, y=1000, width=500, height=500).image_bytes()\n",
        "plt.imshow(region)\n",
        "plt.show()"
      ],
      "metadata": {
        "id": "oH-b-ntlUB1O"
      },
      "execution_count": null,
      "outputs": []
    }
  ]
}