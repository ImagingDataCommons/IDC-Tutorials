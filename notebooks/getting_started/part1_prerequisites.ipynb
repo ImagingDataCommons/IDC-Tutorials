{
  "cells": [
    {
      "cell_type": "markdown",
      "metadata": {
        "id": "view-in-github",
        "colab_type": "text"
      },
      "source": [
        "<a href=\"https://colab.research.google.com/github/ImagingDataCommons/IDC-Tutorials/blob/master/notebooks/getting_started/part1_prerequisites.ipynb\" target=\"_parent\"><img src=\"https://colab.research.google.com/assets/colab-badge.svg\" alt=\"Open In Colab\"/></a>"
      ]
    },
    {
      "cell_type": "markdown",
      "metadata": {
        "id": "KmXfYFZtja2F"
      },
      "source": [
        "# Getting started with IDC - Part 1: Introduction\n",
        "\n",
        "This notebook is part of [the \"Getting started with IDC\" series](https://github.com/ImagingDataCommons/IDC-Examples/tree/master/notebooks/getting_started) introducing [NCI Imaging Data Commons](https://portal.imaging.datacommons.cancer.gov/explore) to the users who want to interact with IDC programmatically.\n",
        "\n",
        "This tutorial series is aimed at users of IDC that are interested in downloading files from IDC, preparing cohorts for the subsequent analysis, and overall streamlining their interaction with IDC.\n",
        "\n",
        "To complete the beginner components of this tutorial series all you will need is computer that has a web browser and an Internet connection. If you choose to complete the beginner component using Google Colab, you will also need to have a Google account.\n",
        "\n",
        "For the intermediate component of the tutorial you must have a Google account, which is required to set up Google Cloud project prerequisite. However, if this is the first time you are interacting with IDC, you can safely skip all of the intermediate-level tutorial sections. They are not essential for basic interactions with IDC!\n",
        "\n",
        "In this first part of the tutorial series we set up your computer for the subsequent components of the tutorial, and learn how to download items you can select in the IDC Portal to your computer.\n",
        "\n",
        "This tutorial consists of 2 sections:\n",
        "* Getting started with `idc-index`: this is the section that you should complete if you are a beginner user of IDC\n",
        "* Getting started with BigQuery: this section covers prerequisites for intermediate users. If you are a beginner, we recommend you skip this section and revisit it if you like after completing the beginner-level materials.\n",
        "\n",
        "---\n",
        "\n",
        "Initial version: Nov 2022\n",
        "\n",
        "Updated: April 2025"
      ]
    },
    {
      "cell_type": "markdown",
      "metadata": {
        "id": "r9udGNfCodXM"
      },
      "source": [
        "## Getting started with `idc-index`: beginner level\n",
        "\n",
        "`idc-index` is a python package that accompanies IDC and provides basic functionality around searching and accessing data from IDC.\n",
        "\n",
        "We will install `idc-index` using `pip`. Note that this package is under active development. We will use the `--upgrade` option to access the latest version. It should take around 1-2 minutes to install the dependencies and complete the next cell."
      ]
    },
    {
      "cell_type": "code",
      "execution_count": 1,
      "metadata": {
        "id": "--TqvNmxDnmF"
      },
      "outputs": [],
      "source": [
        "%%capture\n",
        "pip install --upgrade idc-index"
      ]
    },
    {
      "cell_type": "markdown",
      "metadata": {
        "id": "G5Ag44i0DnmH"
      },
      "source": [
        "`idc-index` contains the two main components:\n",
        "* index: a table containing most important metadata attributes describing DICOM series contained in IDC\n",
        "* utility functions: these functions support basic operations such as download of the files, or search of the index\n",
        "\n",
        "Access to both index and utility functions is provided via the `IDCClient` class available in the package. We will always instantiate that class before doing anything else, as done in the following cell. It may take around 10-20 sec to initialize the client, since behind the scenes it initializes a database that wraps the index mentioned above. This is a one-time operation!"
      ]
    },
    {
      "cell_type": "code",
      "execution_count": 2,
      "metadata": {
        "id": "nOFBo8J6DnmH"
      },
      "outputs": [],
      "source": [
        "from idc_index import index\n",
        "\n",
        "idc_client = index.IDCClient()"
      ]
    },
    {
      "cell_type": "markdown",
      "metadata": {
        "id": "6gs3Q__BDnmI"
      },
      "source": [
        "IDC data is versioned. When you work with `idc-index` it is important to take note of the IDC data release for the installed package.  If you check IDC Portal, you will see the current version of IDC data in the bottom left corner.\n",
        "\n",
        "<img src=\"https://github.com/ImagingDataCommons/IDC-Tutorials/releases/download/0.2.0/Tutorial-version.gif\" alt=\"select\" width=\"800\"/>\n"
      ]
    },
    {
      "cell_type": "markdown",
      "metadata": {
        "id": "yGXb8zPEDnmI"
      },
      "source": [
        "It is always a good idea to confirm the version of IDC data for the `idc-index` package!"
      ]
    },
    {
      "cell_type": "code",
      "execution_count": 3,
      "metadata": {
        "id": "11L-clQFDnmJ",
        "outputId": "807d6f59-5d0d-4142-bd36-2ea47aeddda8",
        "colab": {
          "base_uri": "https://localhost:8080/",
          "height": 35
        }
      },
      "outputs": [
        {
          "output_type": "execute_result",
          "data": {
            "text/plain": [
              "'v20'"
            ],
            "application/vnd.google.colaboratory.intrinsic+json": {
              "type": "string"
            }
          },
          "metadata": {},
          "execution_count": 3
        }
      ],
      "source": [
        "idc_client.get_idc_version()"
      ]
    },
    {
      "cell_type": "markdown",
      "metadata": {
        "id": "AsvLbg0wDnmJ"
      },
      "source": [
        "Now that you have `idc-index` install, among many other things, you can download files corresponding to the individual collections, patients, or studies to your computer.\n",
        "\n",
        "To experiment with this functionality, let's proceed to the IDC Portal explore page, and select a sample DICOM study. Given the unique identifier of that study we will next download the files corresponding to that study using `idc-index`. Please open the [IDC Portal](https://portal.imaging.datacommons.cancer.gov/explore/) page in a new tab, and follow the demonstration below to copy the identifier of a sample series from IDC (you are welcome to experiment with picking a different series, but you should know that some of those can be as large as several hundreds of gigabytes!).\n",
        "\n",
        "<img src=\"https://github.com/ImagingDataCommons/IDC-Tutorials/releases/download/0.2.0/Tutorial-copy.gif\" alt=\"select\" width=\"800\"/>"
      ]
    },
    {
      "cell_type": "markdown",
      "metadata": {
        "id": "Z43rsoBfDnmK"
      },
      "source": [
        "If you followed the demo above precisely, you should have this string in your clipboard (but you can copy any other identifier for your test!): `1.2.840.113654.2.55.68425808326883186792123057288612355322`. This identifier is all that is needed to fetch the files contained in that DICOM study with just a single function call using `idc-index`! In the following cell these files will be downloaded to the current directory.\n",
        "\n",
        "Note how the download progress is reported as the files are fetched from the cloud to your computer. The study referenced above takes around 314 MB on disk if you fetch it from the IDC data release v20."
      ]
    },
    {
      "cell_type": "code",
      "execution_count": 4,
      "metadata": {
        "id": "O-ekzGMpDnmK",
        "outputId": "3dfc0b0b-062c-403d-d6f8-a73f2f5a07eb",
        "colab": {
          "base_uri": "https://localhost:8080/"
        }
      },
      "outputs": [
        {
          "output_type": "stream",
          "name": "stderr",
          "text": [
            "Downloading data: 100%|██████████| 314M/314M [00:09<00:00, 32.1MB/s]\n"
          ]
        }
      ],
      "source": [
        "idc_client.download_from_selection(studyInstanceUID=\"1.2.840.113654.2.55.68425808326883186792123057288612355322\", downloadDir=\".\")"
      ]
    },
    {
      "cell_type": "markdown",
      "metadata": {
        "id": "8NfsIdtTDnmK"
      },
      "source": [
        "Once the download is completed, you can check the current directory to examine the content. Note that files are downloaded in to a folder hierarchy to make navigation easier. The default hierarchy is `collection_id` > `PatientID` > `StudyInstanceUID` > `Modality`_`SeriesInstanceUID`. You can configure this hierarchy - see documentation for the `download_from_selection()` function [here](https://idc-index.readthedocs.io/en/latest/api/idc_index.html#idc_index.index.IDCClient.download_from_selection).\n",
        "\n",
        "This is it - you are done with the first part of the tutorial! From here, if you are a beginner, you should proceed to the [Part 2](https://github.com/ImagingDataCommons/IDC-Tutorials/blob/master/notebooks/getting_started/part2_searching_basics.ipynb) of the Getting started tutorial and skip the following section."
      ]
    },
    {
      "cell_type": "markdown",
      "metadata": {
        "id": "bF4n45wRodXO"
      },
      "source": [
        "## Getting started with BigQuery: intermediate level\n",
        "\n",
        "`idc-index` package covered in the previous section provides access to the basic metadata attributes for the files stored in IDC. Those are sufficient for the basic needs.\n",
        "\n",
        "Over time, as you keep using IDC, your understanding of the data will grow along with your needs. With Google BigQuery it is possible to search _all_ of the metadata accompanying IDC files. In this section we will set up the prerequisites for using Google BigQuery. [Part 3](https://github.com/ImagingDataCommons/IDC-Tutorials/blob/master/notebooks/getting_started/part3_exploring_cohorts.ipynb) of this tutorial series will give you an introduction into how to work with BigQuery.\n",
        "\n",
        "To get started with BigQuery all you need is a Google account (google identity) and a web browser. If you don't have a Google account, you can learn how to get one [here](https://accounts.google.com/signup/v2/webcreateaccount?dsh=308321458437252901&continue=https%3A%2F%2Faccounts.google.com%2FManageAccount&flowName=GlifWebSignIn&flowEntry=SignUp#FirstName=&LastName=). Note that you do NOT need a Gmail email account - [you can use your non-Gmail email address to create one instead](https://support.google.com/accounts/answer/27441?hl=en#existingemail).\n",
        "\n",
        "[!WARNING]\n",
        "\n",
        "The code cells in this section of the notebook should work if you run it in Google Colab. They will not work on your computer!\n",
        "\n",
        "[!WARNING]\n",
        "\n",
        "If you have a Google account that was provided by your organization, it may not be suitable for this tutorial if the organization managing your account has restrictions in place related to GCP! If you experience issues using your organization account, please switch to a personal one (you can create one just for the purposes of this tutorial, if you prefer)."
      ]
    },
    {
      "cell_type": "markdown",
      "metadata": {
        "id": "PPIHDykYodXO"
      },
      "source": [
        "The first step is to activate Google Cloud Platform product for the Google account you will be using.\n",
        "\n",
        "You do not need to connect your credit card, and you will not need any special permissions or credits to create a project and use it in the subsequent parts of this tutorial series.\n",
        "\n",
        "To activate Google Cloud Platform for your account, follow these steps.\n",
        "\n",
        "1.  Go to https://console.cloud.google.com/, and accept Terms and conditions.\n",
        "\n",
        "<img src=\"https://github.com/ImagingDataCommons/IDC-Tutorials/releases/download/0.20.0/agreed.jpg\" alt=\"agree\" width=\"400\"/>\n",
        "\n",
        "2. In the upper left corner of the GCP console click \"Select a project\"\n",
        "\n",
        "<img src=\"https://github.com/ImagingDataCommons/IDC-Tutorials/releases/download/0.20.0/select.jpg\" alt=\"select\" width=\"400\"/>\n",
        "\n",
        "3. In the project selector click \"Create new project\". If you already have a project, you may be able to reuse it for this tutorial.\n",
        "\n",
        "<img src=\"https://github.com/ImagingDataCommons/IDC-Tutorials/releases/download/0.20.0/new.jpg\" alt=\"new\" width=\"400\"/>\n",
        "\n",
        "4. Open the GCP console menu by clicking the ☰ menu icon in the upper left corner, and select \"Dashboard\". You will see information about your project, including your Project ID. Insert that project ID in the cell below. Once you run this cell, it will also prompt you to give Colab permissions to act on your behalf."
      ]
    },
    {
      "cell_type": "code",
      "execution_count": null,
      "metadata": {
        "cellView": "form",
        "id": "SJ29fuYyodXP"
      },
      "outputs": [],
      "source": [
        "#@title Enter your Project ID\n",
        "# initialize this variable with your Google Cloud Project ID!\n",
        "my_ProjectID = \"\" #@param {type:\"string\"}\n",
        "\n",
        "import os\n",
        "os.environ[\"GCP_PROJECT_ID\"] = my_ProjectID\n",
        "\n",
        "from google.colab import auth\n",
        "auth.authenticate_user()"
      ]
    },
    {
      "cell_type": "markdown",
      "metadata": {
        "id": "Ty5tneoqodXQ"
      },
      "source": [
        "Next we will locate and bookmark `bigquery-public-data` project.\n",
        "\n",
        "`bigquery-public-data` is a public Google Cloud project that contains BigQuery tables with IDC metadata. To navigate those metadata tables you need to manually add this project to your workspace.\n",
        "\n",
        "1. Open the BigQuery console: https://console.cloud.google.com/bigquery, and click the `+ ADD DATA` button.\n",
        "\n",
        "<img src=\"https://github.com/ImagingDataCommons/IDC-Tutorials/releases/download/0.20.0/gcp_bq_add.jpg\" alt=\"add data\" width=\"400\"/>\n",
        "\n",
        "2. Choose \"Star a project\" option from the list.\n",
        "\n",
        "<img src=\"https://github.com/ImagingDataCommons/IDC-Tutorials/releases/download/0.20.0/star_a_project.jpg\" alt=\"star a project\" width=\"400\"/>\n",
        "\n",
        "3. Type `bigquery-public-data` as the project name and click `STAR` button.\n",
        "\n",
        "<img src=\"https://github.com/ImagingDataCommons/IDC-Tutorials/releases/download/0.20.0/star.jpg\" alt=\"star\" width=\"400\"/>\n",
        "\n",
        "In a few moments, `bigquery-public-data` project should appear in the list on the left hand side of the BigQuery console.\n",
        "\n",
        "<img src=\"https://github.com/ImagingDataCommons/IDC-Tutorials/releases/download/0.20.0/bqpd_added.jpg\" alt=\"starred\" width=\"400\"/>\n",
        "\n",
        "`bigquery-public-data` is a Google Cloud project maintained by the Google Public Datasets Program, which contains numerous public datasets along with those curated by IDC. To find BigQuery datasets corresponding to the versioned IDC releases, expand the drop-down selector and scroll to the datasets that are named as `idc_v18` etc. The largest number will correspond to the latest data release.\n",
        "\n",
        "<img src=\"https://github.com/ImagingDataCommons/IDC-Tutorials/releases/download/0.20.0/idc_dataset_tables.jpg\" alt=\"starred\" width=\"400\"/>\n"
      ]
    },
    {
      "cell_type": "markdown",
      "metadata": {
        "id": "-hM3oLGFodXQ"
      },
      "source": [
        "Finally, let's run a query to confirm that the setup is working for your account."
      ]
    },
    {
      "cell_type": "code",
      "execution_count": 5,
      "metadata": {
        "id": "Ab9RyG2EodXR",
        "colab": {
          "base_uri": "https://localhost:8080/",
          "height": 145,
          "referenced_widgets": [
            "81d0ce1eed2a449ab079b40658e1785f",
            "21fbd1987af047aeb6a4c387d96a16f8",
            "71add6201775494ead8a7c575a32052b",
            "65743d6136a14be4840963bd7d9dcf21",
            "78e5934f8ec04933b5f8930d855edc9d",
            "2eb77b3a65a14b0b97bafdd62a8e661d",
            "7c9bc391b7434152af67abbbe69f7922",
            "68725d240c92466cafa3a70e6a490fd5",
            "64de93a033534131aa4e12b6413cf393",
            "50d8ad93a4f44d23a9a8e5b656b2f329",
            "3f5701a81ca8447da02943387741b397",
            "370b20b1b7004a9db289baaa5ff25c80",
            "95129a3802f042fcbb8c739ec8ac2775",
            "5666e3a67ac24642afbe70ad6bcc4e44",
            "453a8e9e4d68468f9fff5d348bf027b0",
            "6e055c02096e491185a544bdba528ef1",
            "ace9e2dbaad841d5bd32dcb10c1cd5a4",
            "2c24ba8f9d45422bb32f82f649973a0e",
            "bdb626eacc194f89808129f7331875a3",
            "8cebe55baa2c4da0a49608a8a24bf905",
            "7e7a006b4fbe4029a37038ebdb5e499a",
            "9b392d84296743d2bf82e2f37e7642a3"
          ]
        },
        "outputId": "3ea072ec-ee06-489a-f0f1-6a4f659247b5"
      },
      "outputs": [
        {
          "output_type": "display_data",
          "data": {
            "text/plain": [
              "Query is running:   0%|          |"
            ],
            "application/vnd.jupyter.widget-view+json": {
              "version_major": 2,
              "version_minor": 0,
              "model_id": "81d0ce1eed2a449ab079b40658e1785f"
            }
          },
          "metadata": {}
        },
        {
          "output_type": "display_data",
          "data": {
            "text/plain": [
              "Downloading:   0%|          |"
            ],
            "application/vnd.jupyter.widget-view+json": {
              "version_major": 2,
              "version_minor": 0,
              "model_id": "370b20b1b7004a9db289baaa5ff25c80"
            }
          },
          "metadata": {}
        },
        {
          "output_type": "execute_result",
          "data": {
            "text/plain": [
              "   collections_cnt\n",
              "0              149"
            ],
            "text/html": [
              "\n",
              "  <div id=\"df-9ba6f61e-267a-4e33-87d6-eea293c8ca75\" class=\"colab-df-container\">\n",
              "    <div>\n",
              "<style scoped>\n",
              "    .dataframe tbody tr th:only-of-type {\n",
              "        vertical-align: middle;\n",
              "    }\n",
              "\n",
              "    .dataframe tbody tr th {\n",
              "        vertical-align: top;\n",
              "    }\n",
              "\n",
              "    .dataframe thead th {\n",
              "        text-align: right;\n",
              "    }\n",
              "</style>\n",
              "<table border=\"1\" class=\"dataframe\">\n",
              "  <thead>\n",
              "    <tr style=\"text-align: right;\">\n",
              "      <th></th>\n",
              "      <th>collections_cnt</th>\n",
              "    </tr>\n",
              "  </thead>\n",
              "  <tbody>\n",
              "    <tr>\n",
              "      <th>0</th>\n",
              "      <td>149</td>\n",
              "    </tr>\n",
              "  </tbody>\n",
              "</table>\n",
              "</div>\n",
              "    <div class=\"colab-df-buttons\">\n",
              "\n",
              "  <div class=\"colab-df-container\">\n",
              "    <button class=\"colab-df-convert\" onclick=\"convertToInteractive('df-9ba6f61e-267a-4e33-87d6-eea293c8ca75')\"\n",
              "            title=\"Convert this dataframe to an interactive table.\"\n",
              "            style=\"display:none;\">\n",
              "\n",
              "  <svg xmlns=\"http://www.w3.org/2000/svg\" height=\"24px\" viewBox=\"0 -960 960 960\">\n",
              "    <path d=\"M120-120v-720h720v720H120Zm60-500h600v-160H180v160Zm220 220h160v-160H400v160Zm0 220h160v-160H400v160ZM180-400h160v-160H180v160Zm440 0h160v-160H620v160ZM180-180h160v-160H180v160Zm440 0h160v-160H620v160Z\"/>\n",
              "  </svg>\n",
              "    </button>\n",
              "\n",
              "  <style>\n",
              "    .colab-df-container {\n",
              "      display:flex;\n",
              "      gap: 12px;\n",
              "    }\n",
              "\n",
              "    .colab-df-convert {\n",
              "      background-color: #E8F0FE;\n",
              "      border: none;\n",
              "      border-radius: 50%;\n",
              "      cursor: pointer;\n",
              "      display: none;\n",
              "      fill: #1967D2;\n",
              "      height: 32px;\n",
              "      padding: 0 0 0 0;\n",
              "      width: 32px;\n",
              "    }\n",
              "\n",
              "    .colab-df-convert:hover {\n",
              "      background-color: #E2EBFA;\n",
              "      box-shadow: 0px 1px 2px rgba(60, 64, 67, 0.3), 0px 1px 3px 1px rgba(60, 64, 67, 0.15);\n",
              "      fill: #174EA6;\n",
              "    }\n",
              "\n",
              "    .colab-df-buttons div {\n",
              "      margin-bottom: 4px;\n",
              "    }\n",
              "\n",
              "    [theme=dark] .colab-df-convert {\n",
              "      background-color: #3B4455;\n",
              "      fill: #D2E3FC;\n",
              "    }\n",
              "\n",
              "    [theme=dark] .colab-df-convert:hover {\n",
              "      background-color: #434B5C;\n",
              "      box-shadow: 0px 1px 3px 1px rgba(0, 0, 0, 0.15);\n",
              "      filter: drop-shadow(0px 1px 2px rgba(0, 0, 0, 0.3));\n",
              "      fill: #FFFFFF;\n",
              "    }\n",
              "  </style>\n",
              "\n",
              "    <script>\n",
              "      const buttonEl =\n",
              "        document.querySelector('#df-9ba6f61e-267a-4e33-87d6-eea293c8ca75 button.colab-df-convert');\n",
              "      buttonEl.style.display =\n",
              "        google.colab.kernel.accessAllowed ? 'block' : 'none';\n",
              "\n",
              "      async function convertToInteractive(key) {\n",
              "        const element = document.querySelector('#df-9ba6f61e-267a-4e33-87d6-eea293c8ca75');\n",
              "        const dataTable =\n",
              "          await google.colab.kernel.invokeFunction('convertToInteractive',\n",
              "                                                    [key], {});\n",
              "        if (!dataTable) return;\n",
              "\n",
              "        const docLinkHtml = 'Like what you see? Visit the ' +\n",
              "          '<a target=\"_blank\" href=https://colab.research.google.com/notebooks/data_table.ipynb>data table notebook</a>'\n",
              "          + ' to learn more about interactive tables.';\n",
              "        element.innerHTML = '';\n",
              "        dataTable['output_type'] = 'display_data';\n",
              "        await google.colab.output.renderOutput(dataTable, element);\n",
              "        const docLink = document.createElement('div');\n",
              "        docLink.innerHTML = docLinkHtml;\n",
              "        element.appendChild(docLink);\n",
              "      }\n",
              "    </script>\n",
              "  </div>\n",
              "\n",
              "\n",
              "    </div>\n",
              "  </div>\n"
            ],
            "application/vnd.google.colaboratory.intrinsic+json": {
              "type": "dataframe",
              "summary": "{\n  \"name\": \"get_ipython()\",\n  \"rows\": 1,\n  \"fields\": [\n    {\n      \"column\": \"collections_cnt\",\n      \"properties\": {\n        \"dtype\": \"Int64\",\n        \"num_unique_values\": 1,\n        \"samples\": [\n          149\n        ],\n        \"semantic_type\": \"\",\n        \"description\": \"\"\n      }\n    }\n  ]\n}"
            }
          },
          "metadata": {},
          "execution_count": 5
        }
      ],
      "source": [
        "%%bigquery --project=$my_ProjectID\n",
        "\n",
        "SELECT COUNT(DISTINCT(collection_id)) as collections_cnt\n",
        "FROM bigquery-public-data.idc_current.dicom_all"
      ]
    },
    {
      "cell_type": "markdown",
      "metadata": {
        "id": "nxsmxh0WodXR"
      },
      "source": [
        "If the cell above completed without errors, you completed the prerequisites and can proceed to the next tutorial in the series, keeping the project ID handy - you will need it.\n",
        "\n",
        "Now that you've completed this section, you can proceed to [Part 2](https://github.com/ImagingDataCommons/IDC-Tutorials/blob/master/notebooks/getting_started/part2_searching_basics.ipynb) where you will learn how to use `idc-index` for basic operations working with IDC. If you already completed Part 2, and are done with the BigQuery prerequisites, continue to [Part 3](https://github.com/ImagingDataCommons/IDC-Tutorials/blob/master/notebooks/getting_started/part3_exploring_cohorts.ipynb) to practice advanced metadata search capabilities!"
      ]
    },
    {
      "cell_type": "markdown",
      "metadata": {
        "id": "zCabXb6kodXR"
      },
      "source": [
        "## Support\n",
        "\n",
        "You can contact IDC support by sending email to support@canceridc.dev or posting your question on [IDC User forum](https://discourse.canceridc.dev)."
      ]
    },
    {
      "cell_type": "markdown",
      "metadata": {
        "id": "us4PODapodXR"
      },
      "source": [
        "## Acknowledgments\n",
        "\n",
        "Imaging Data Commons has been funded in whole or in part with Federal funds from the National Cancer Institute, National Institutes of Health, under Task Order No. HHSN26110071 under Contract No. HHSN261201500003l.\n",
        "\n",
        "If you use IDC in your research, please support us by citing the following publication:\n",
        "\n",
        "> Fedorov, A., Longabaugh, W. J. R., Pot, D., Clunie, D. A., Pieper, S. D., Gibbs, D. L., Bridge, C., Herrmann, M. D., Homeyer, A., Lewis, R., Aerts, H. J. W., Krishnaswamy, D., Thiriveedhi, V. K., Ciausu, C., Schacherer, D. P., Bontempi, D., Pihl, T., Wagner, U., Farahani, K., Kim, E. & Kikinis, R. National Cancer Institute Imaging Data Commons: Toward Transparency, Reproducibility, and Scalability in Imaging Artificial Intelligence. RadioGraphics (2023). https://doi.org/10.1148/rg.230180"
      ]
    }
  ],
  "metadata": {
    "colab": {
      "provenance": [],
      "include_colab_link": true
    },
    "gpuClass": "standard",
    "kernelspec": {
      "display_name": "Python 3",
      "name": "python3"
    },
    "language_info": {
      "codemirror_mode": {
        "name": "ipython",
        "version": 3
      },
      "file_extension": ".py",
      "mimetype": "text/x-python",
      "name": "python",
      "nbconvert_exporter": "python",
      "pygments_lexer": "ipython3",
      "version": "3.9.19"
    },
    "orig_nbformat": 4,
    "widgets": {
      "application/vnd.jupyter.widget-state+json": {
        "81d0ce1eed2a449ab079b40658e1785f": {
          "model_module": "@jupyter-widgets/controls",
          "model_name": "HBoxModel",
          "model_module_version": "1.5.0",
          "state": {
            "_dom_classes": [],
            "_model_module": "@jupyter-widgets/controls",
            "_model_module_version": "1.5.0",
            "_model_name": "HBoxModel",
            "_view_count": null,
            "_view_module": "@jupyter-widgets/controls",
            "_view_module_version": "1.5.0",
            "_view_name": "HBoxView",
            "box_style": "",
            "children": [
              "IPY_MODEL_21fbd1987af047aeb6a4c387d96a16f8",
              "IPY_MODEL_71add6201775494ead8a7c575a32052b",
              "IPY_MODEL_65743d6136a14be4840963bd7d9dcf21"
            ],
            "layout": "IPY_MODEL_78e5934f8ec04933b5f8930d855edc9d"
          }
        },
        "21fbd1987af047aeb6a4c387d96a16f8": {
          "model_module": "@jupyter-widgets/controls",
          "model_name": "HTMLModel",
          "model_module_version": "1.5.0",
          "state": {
            "_dom_classes": [],
            "_model_module": "@jupyter-widgets/controls",
            "_model_module_version": "1.5.0",
            "_model_name": "HTMLModel",
            "_view_count": null,
            "_view_module": "@jupyter-widgets/controls",
            "_view_module_version": "1.5.0",
            "_view_name": "HTMLView",
            "description": "",
            "description_tooltip": null,
            "layout": "IPY_MODEL_2eb77b3a65a14b0b97bafdd62a8e661d",
            "placeholder": "​",
            "style": "IPY_MODEL_7c9bc391b7434152af67abbbe69f7922",
            "value": "Job ID 78fe781a-09d9-420d-8d29-3b2f963da385 successfully executed: 100%"
          }
        },
        "71add6201775494ead8a7c575a32052b": {
          "model_module": "@jupyter-widgets/controls",
          "model_name": "FloatProgressModel",
          "model_module_version": "1.5.0",
          "state": {
            "_dom_classes": [],
            "_model_module": "@jupyter-widgets/controls",
            "_model_module_version": "1.5.0",
            "_model_name": "FloatProgressModel",
            "_view_count": null,
            "_view_module": "@jupyter-widgets/controls",
            "_view_module_version": "1.5.0",
            "_view_name": "ProgressView",
            "bar_style": "success",
            "description": "",
            "description_tooltip": null,
            "layout": "IPY_MODEL_68725d240c92466cafa3a70e6a490fd5",
            "max": 1,
            "min": 0,
            "orientation": "horizontal",
            "style": "IPY_MODEL_64de93a033534131aa4e12b6413cf393",
            "value": 1
          }
        },
        "65743d6136a14be4840963bd7d9dcf21": {
          "model_module": "@jupyter-widgets/controls",
          "model_name": "HTMLModel",
          "model_module_version": "1.5.0",
          "state": {
            "_dom_classes": [],
            "_model_module": "@jupyter-widgets/controls",
            "_model_module_version": "1.5.0",
            "_model_name": "HTMLModel",
            "_view_count": null,
            "_view_module": "@jupyter-widgets/controls",
            "_view_module_version": "1.5.0",
            "_view_name": "HTMLView",
            "description": "",
            "description_tooltip": null,
            "layout": "IPY_MODEL_50d8ad93a4f44d23a9a8e5b656b2f329",
            "placeholder": "​",
            "style": "IPY_MODEL_3f5701a81ca8447da02943387741b397",
            "value": ""
          }
        },
        "78e5934f8ec04933b5f8930d855edc9d": {
          "model_module": "@jupyter-widgets/base",
          "model_name": "LayoutModel",
          "model_module_version": "1.2.0",
          "state": {
            "_model_module": "@jupyter-widgets/base",
            "_model_module_version": "1.2.0",
            "_model_name": "LayoutModel",
            "_view_count": null,
            "_view_module": "@jupyter-widgets/base",
            "_view_module_version": "1.2.0",
            "_view_name": "LayoutView",
            "align_content": null,
            "align_items": null,
            "align_self": null,
            "border": null,
            "bottom": null,
            "display": null,
            "flex": null,
            "flex_flow": null,
            "grid_area": null,
            "grid_auto_columns": null,
            "grid_auto_flow": null,
            "grid_auto_rows": null,
            "grid_column": null,
            "grid_gap": null,
            "grid_row": null,
            "grid_template_areas": null,
            "grid_template_columns": null,
            "grid_template_rows": null,
            "height": null,
            "justify_content": null,
            "justify_items": null,
            "left": null,
            "margin": null,
            "max_height": null,
            "max_width": null,
            "min_height": null,
            "min_width": null,
            "object_fit": null,
            "object_position": null,
            "order": null,
            "overflow": null,
            "overflow_x": null,
            "overflow_y": null,
            "padding": null,
            "right": null,
            "top": null,
            "visibility": null,
            "width": null
          }
        },
        "2eb77b3a65a14b0b97bafdd62a8e661d": {
          "model_module": "@jupyter-widgets/base",
          "model_name": "LayoutModel",
          "model_module_version": "1.2.0",
          "state": {
            "_model_module": "@jupyter-widgets/base",
            "_model_module_version": "1.2.0",
            "_model_name": "LayoutModel",
            "_view_count": null,
            "_view_module": "@jupyter-widgets/base",
            "_view_module_version": "1.2.0",
            "_view_name": "LayoutView",
            "align_content": null,
            "align_items": null,
            "align_self": null,
            "border": null,
            "bottom": null,
            "display": null,
            "flex": null,
            "flex_flow": null,
            "grid_area": null,
            "grid_auto_columns": null,
            "grid_auto_flow": null,
            "grid_auto_rows": null,
            "grid_column": null,
            "grid_gap": null,
            "grid_row": null,
            "grid_template_areas": null,
            "grid_template_columns": null,
            "grid_template_rows": null,
            "height": null,
            "justify_content": null,
            "justify_items": null,
            "left": null,
            "margin": null,
            "max_height": null,
            "max_width": null,
            "min_height": null,
            "min_width": null,
            "object_fit": null,
            "object_position": null,
            "order": null,
            "overflow": null,
            "overflow_x": null,
            "overflow_y": null,
            "padding": null,
            "right": null,
            "top": null,
            "visibility": null,
            "width": null
          }
        },
        "7c9bc391b7434152af67abbbe69f7922": {
          "model_module": "@jupyter-widgets/controls",
          "model_name": "DescriptionStyleModel",
          "model_module_version": "1.5.0",
          "state": {
            "_model_module": "@jupyter-widgets/controls",
            "_model_module_version": "1.5.0",
            "_model_name": "DescriptionStyleModel",
            "_view_count": null,
            "_view_module": "@jupyter-widgets/base",
            "_view_module_version": "1.2.0",
            "_view_name": "StyleView",
            "description_width": ""
          }
        },
        "68725d240c92466cafa3a70e6a490fd5": {
          "model_module": "@jupyter-widgets/base",
          "model_name": "LayoutModel",
          "model_module_version": "1.2.0",
          "state": {
            "_model_module": "@jupyter-widgets/base",
            "_model_module_version": "1.2.0",
            "_model_name": "LayoutModel",
            "_view_count": null,
            "_view_module": "@jupyter-widgets/base",
            "_view_module_version": "1.2.0",
            "_view_name": "LayoutView",
            "align_content": null,
            "align_items": null,
            "align_self": null,
            "border": null,
            "bottom": null,
            "display": null,
            "flex": null,
            "flex_flow": null,
            "grid_area": null,
            "grid_auto_columns": null,
            "grid_auto_flow": null,
            "grid_auto_rows": null,
            "grid_column": null,
            "grid_gap": null,
            "grid_row": null,
            "grid_template_areas": null,
            "grid_template_columns": null,
            "grid_template_rows": null,
            "height": null,
            "justify_content": null,
            "justify_items": null,
            "left": null,
            "margin": null,
            "max_height": null,
            "max_width": null,
            "min_height": null,
            "min_width": null,
            "object_fit": null,
            "object_position": null,
            "order": null,
            "overflow": null,
            "overflow_x": null,
            "overflow_y": null,
            "padding": null,
            "right": null,
            "top": null,
            "visibility": null,
            "width": null
          }
        },
        "64de93a033534131aa4e12b6413cf393": {
          "model_module": "@jupyter-widgets/controls",
          "model_name": "ProgressStyleModel",
          "model_module_version": "1.5.0",
          "state": {
            "_model_module": "@jupyter-widgets/controls",
            "_model_module_version": "1.5.0",
            "_model_name": "ProgressStyleModel",
            "_view_count": null,
            "_view_module": "@jupyter-widgets/base",
            "_view_module_version": "1.2.0",
            "_view_name": "StyleView",
            "bar_color": null,
            "description_width": ""
          }
        },
        "50d8ad93a4f44d23a9a8e5b656b2f329": {
          "model_module": "@jupyter-widgets/base",
          "model_name": "LayoutModel",
          "model_module_version": "1.2.0",
          "state": {
            "_model_module": "@jupyter-widgets/base",
            "_model_module_version": "1.2.0",
            "_model_name": "LayoutModel",
            "_view_count": null,
            "_view_module": "@jupyter-widgets/base",
            "_view_module_version": "1.2.0",
            "_view_name": "LayoutView",
            "align_content": null,
            "align_items": null,
            "align_self": null,
            "border": null,
            "bottom": null,
            "display": null,
            "flex": null,
            "flex_flow": null,
            "grid_area": null,
            "grid_auto_columns": null,
            "grid_auto_flow": null,
            "grid_auto_rows": null,
            "grid_column": null,
            "grid_gap": null,
            "grid_row": null,
            "grid_template_areas": null,
            "grid_template_columns": null,
            "grid_template_rows": null,
            "height": null,
            "justify_content": null,
            "justify_items": null,
            "left": null,
            "margin": null,
            "max_height": null,
            "max_width": null,
            "min_height": null,
            "min_width": null,
            "object_fit": null,
            "object_position": null,
            "order": null,
            "overflow": null,
            "overflow_x": null,
            "overflow_y": null,
            "padding": null,
            "right": null,
            "top": null,
            "visibility": null,
            "width": null
          }
        },
        "3f5701a81ca8447da02943387741b397": {
          "model_module": "@jupyter-widgets/controls",
          "model_name": "DescriptionStyleModel",
          "model_module_version": "1.5.0",
          "state": {
            "_model_module": "@jupyter-widgets/controls",
            "_model_module_version": "1.5.0",
            "_model_name": "DescriptionStyleModel",
            "_view_count": null,
            "_view_module": "@jupyter-widgets/base",
            "_view_module_version": "1.2.0",
            "_view_name": "StyleView",
            "description_width": ""
          }
        },
        "370b20b1b7004a9db289baaa5ff25c80": {
          "model_module": "@jupyter-widgets/controls",
          "model_name": "HBoxModel",
          "model_module_version": "1.5.0",
          "state": {
            "_dom_classes": [],
            "_model_module": "@jupyter-widgets/controls",
            "_model_module_version": "1.5.0",
            "_model_name": "HBoxModel",
            "_view_count": null,
            "_view_module": "@jupyter-widgets/controls",
            "_view_module_version": "1.5.0",
            "_view_name": "HBoxView",
            "box_style": "",
            "children": [
              "IPY_MODEL_95129a3802f042fcbb8c739ec8ac2775",
              "IPY_MODEL_5666e3a67ac24642afbe70ad6bcc4e44",
              "IPY_MODEL_453a8e9e4d68468f9fff5d348bf027b0"
            ],
            "layout": "IPY_MODEL_6e055c02096e491185a544bdba528ef1"
          }
        },
        "95129a3802f042fcbb8c739ec8ac2775": {
          "model_module": "@jupyter-widgets/controls",
          "model_name": "HTMLModel",
          "model_module_version": "1.5.0",
          "state": {
            "_dom_classes": [],
            "_model_module": "@jupyter-widgets/controls",
            "_model_module_version": "1.5.0",
            "_model_name": "HTMLModel",
            "_view_count": null,
            "_view_module": "@jupyter-widgets/controls",
            "_view_module_version": "1.5.0",
            "_view_name": "HTMLView",
            "description": "",
            "description_tooltip": null,
            "layout": "IPY_MODEL_ace9e2dbaad841d5bd32dcb10c1cd5a4",
            "placeholder": "​",
            "style": "IPY_MODEL_2c24ba8f9d45422bb32f82f649973a0e",
            "value": "Downloading: 100%"
          }
        },
        "5666e3a67ac24642afbe70ad6bcc4e44": {
          "model_module": "@jupyter-widgets/controls",
          "model_name": "FloatProgressModel",
          "model_module_version": "1.5.0",
          "state": {
            "_dom_classes": [],
            "_model_module": "@jupyter-widgets/controls",
            "_model_module_version": "1.5.0",
            "_model_name": "FloatProgressModel",
            "_view_count": null,
            "_view_module": "@jupyter-widgets/controls",
            "_view_module_version": "1.5.0",
            "_view_name": "ProgressView",
            "bar_style": "success",
            "description": "",
            "description_tooltip": null,
            "layout": "IPY_MODEL_bdb626eacc194f89808129f7331875a3",
            "max": 1,
            "min": 0,
            "orientation": "horizontal",
            "style": "IPY_MODEL_8cebe55baa2c4da0a49608a8a24bf905",
            "value": 1
          }
        },
        "453a8e9e4d68468f9fff5d348bf027b0": {
          "model_module": "@jupyter-widgets/controls",
          "model_name": "HTMLModel",
          "model_module_version": "1.5.0",
          "state": {
            "_dom_classes": [],
            "_model_module": "@jupyter-widgets/controls",
            "_model_module_version": "1.5.0",
            "_model_name": "HTMLModel",
            "_view_count": null,
            "_view_module": "@jupyter-widgets/controls",
            "_view_module_version": "1.5.0",
            "_view_name": "HTMLView",
            "description": "",
            "description_tooltip": null,
            "layout": "IPY_MODEL_7e7a006b4fbe4029a37038ebdb5e499a",
            "placeholder": "​",
            "style": "IPY_MODEL_9b392d84296743d2bf82e2f37e7642a3",
            "value": ""
          }
        },
        "6e055c02096e491185a544bdba528ef1": {
          "model_module": "@jupyter-widgets/base",
          "model_name": "LayoutModel",
          "model_module_version": "1.2.0",
          "state": {
            "_model_module": "@jupyter-widgets/base",
            "_model_module_version": "1.2.0",
            "_model_name": "LayoutModel",
            "_view_count": null,
            "_view_module": "@jupyter-widgets/base",
            "_view_module_version": "1.2.0",
            "_view_name": "LayoutView",
            "align_content": null,
            "align_items": null,
            "align_self": null,
            "border": null,
            "bottom": null,
            "display": null,
            "flex": null,
            "flex_flow": null,
            "grid_area": null,
            "grid_auto_columns": null,
            "grid_auto_flow": null,
            "grid_auto_rows": null,
            "grid_column": null,
            "grid_gap": null,
            "grid_row": null,
            "grid_template_areas": null,
            "grid_template_columns": null,
            "grid_template_rows": null,
            "height": null,
            "justify_content": null,
            "justify_items": null,
            "left": null,
            "margin": null,
            "max_height": null,
            "max_width": null,
            "min_height": null,
            "min_width": null,
            "object_fit": null,
            "object_position": null,
            "order": null,
            "overflow": null,
            "overflow_x": null,
            "overflow_y": null,
            "padding": null,
            "right": null,
            "top": null,
            "visibility": null,
            "width": null
          }
        },
        "ace9e2dbaad841d5bd32dcb10c1cd5a4": {
          "model_module": "@jupyter-widgets/base",
          "model_name": "LayoutModel",
          "model_module_version": "1.2.0",
          "state": {
            "_model_module": "@jupyter-widgets/base",
            "_model_module_version": "1.2.0",
            "_model_name": "LayoutModel",
            "_view_count": null,
            "_view_module": "@jupyter-widgets/base",
            "_view_module_version": "1.2.0",
            "_view_name": "LayoutView",
            "align_content": null,
            "align_items": null,
            "align_self": null,
            "border": null,
            "bottom": null,
            "display": null,
            "flex": null,
            "flex_flow": null,
            "grid_area": null,
            "grid_auto_columns": null,
            "grid_auto_flow": null,
            "grid_auto_rows": null,
            "grid_column": null,
            "grid_gap": null,
            "grid_row": null,
            "grid_template_areas": null,
            "grid_template_columns": null,
            "grid_template_rows": null,
            "height": null,
            "justify_content": null,
            "justify_items": null,
            "left": null,
            "margin": null,
            "max_height": null,
            "max_width": null,
            "min_height": null,
            "min_width": null,
            "object_fit": null,
            "object_position": null,
            "order": null,
            "overflow": null,
            "overflow_x": null,
            "overflow_y": null,
            "padding": null,
            "right": null,
            "top": null,
            "visibility": null,
            "width": null
          }
        },
        "2c24ba8f9d45422bb32f82f649973a0e": {
          "model_module": "@jupyter-widgets/controls",
          "model_name": "DescriptionStyleModel",
          "model_module_version": "1.5.0",
          "state": {
            "_model_module": "@jupyter-widgets/controls",
            "_model_module_version": "1.5.0",
            "_model_name": "DescriptionStyleModel",
            "_view_count": null,
            "_view_module": "@jupyter-widgets/base",
            "_view_module_version": "1.2.0",
            "_view_name": "StyleView",
            "description_width": ""
          }
        },
        "bdb626eacc194f89808129f7331875a3": {
          "model_module": "@jupyter-widgets/base",
          "model_name": "LayoutModel",
          "model_module_version": "1.2.0",
          "state": {
            "_model_module": "@jupyter-widgets/base",
            "_model_module_version": "1.2.0",
            "_model_name": "LayoutModel",
            "_view_count": null,
            "_view_module": "@jupyter-widgets/base",
            "_view_module_version": "1.2.0",
            "_view_name": "LayoutView",
            "align_content": null,
            "align_items": null,
            "align_self": null,
            "border": null,
            "bottom": null,
            "display": null,
            "flex": null,
            "flex_flow": null,
            "grid_area": null,
            "grid_auto_columns": null,
            "grid_auto_flow": null,
            "grid_auto_rows": null,
            "grid_column": null,
            "grid_gap": null,
            "grid_row": null,
            "grid_template_areas": null,
            "grid_template_columns": null,
            "grid_template_rows": null,
            "height": null,
            "justify_content": null,
            "justify_items": null,
            "left": null,
            "margin": null,
            "max_height": null,
            "max_width": null,
            "min_height": null,
            "min_width": null,
            "object_fit": null,
            "object_position": null,
            "order": null,
            "overflow": null,
            "overflow_x": null,
            "overflow_y": null,
            "padding": null,
            "right": null,
            "top": null,
            "visibility": null,
            "width": null
          }
        },
        "8cebe55baa2c4da0a49608a8a24bf905": {
          "model_module": "@jupyter-widgets/controls",
          "model_name": "ProgressStyleModel",
          "model_module_version": "1.5.0",
          "state": {
            "_model_module": "@jupyter-widgets/controls",
            "_model_module_version": "1.5.0",
            "_model_name": "ProgressStyleModel",
            "_view_count": null,
            "_view_module": "@jupyter-widgets/base",
            "_view_module_version": "1.2.0",
            "_view_name": "StyleView",
            "bar_color": null,
            "description_width": ""
          }
        },
        "7e7a006b4fbe4029a37038ebdb5e499a": {
          "model_module": "@jupyter-widgets/base",
          "model_name": "LayoutModel",
          "model_module_version": "1.2.0",
          "state": {
            "_model_module": "@jupyter-widgets/base",
            "_model_module_version": "1.2.0",
            "_model_name": "LayoutModel",
            "_view_count": null,
            "_view_module": "@jupyter-widgets/base",
            "_view_module_version": "1.2.0",
            "_view_name": "LayoutView",
            "align_content": null,
            "align_items": null,
            "align_self": null,
            "border": null,
            "bottom": null,
            "display": null,
            "flex": null,
            "flex_flow": null,
            "grid_area": null,
            "grid_auto_columns": null,
            "grid_auto_flow": null,
            "grid_auto_rows": null,
            "grid_column": null,
            "grid_gap": null,
            "grid_row": null,
            "grid_template_areas": null,
            "grid_template_columns": null,
            "grid_template_rows": null,
            "height": null,
            "justify_content": null,
            "justify_items": null,
            "left": null,
            "margin": null,
            "max_height": null,
            "max_width": null,
            "min_height": null,
            "min_width": null,
            "object_fit": null,
            "object_position": null,
            "order": null,
            "overflow": null,
            "overflow_x": null,
            "overflow_y": null,
            "padding": null,
            "right": null,
            "top": null,
            "visibility": null,
            "width": null
          }
        },
        "9b392d84296743d2bf82e2f37e7642a3": {
          "model_module": "@jupyter-widgets/controls",
          "model_name": "DescriptionStyleModel",
          "model_module_version": "1.5.0",
          "state": {
            "_model_module": "@jupyter-widgets/controls",
            "_model_module_version": "1.5.0",
            "_model_name": "DescriptionStyleModel",
            "_view_count": null,
            "_view_module": "@jupyter-widgets/base",
            "_view_module_version": "1.2.0",
            "_view_name": "StyleView",
            "description_width": ""
          }
        }
      }
    }
  },
  "nbformat": 4,
  "nbformat_minor": 0
}