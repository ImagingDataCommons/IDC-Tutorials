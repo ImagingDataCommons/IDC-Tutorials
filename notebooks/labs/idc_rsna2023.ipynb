{
  "cells": [
    {
      "cell_type": "markdown",
      "metadata": {
        "id": "view-in-github",
        "colab_type": "text"
      },
      "source": [
        "<a href=\"https://colab.research.google.com/github/ImagingDataCommons/IDC-Tutorials/blob/master/notebooks/labs/idc_rsna2023.ipynb\" target=\"_parent\"><img src=\"https://colab.research.google.com/assets/colab-badge.svg\" alt=\"Open In Colab\"/></a>"
      ]
    },
    {
      "cell_type": "markdown",
      "source": [
        "# This notebook is outdated!\n",
        "\n",
        "\n",
        "\n",
        "\n",
        "# Please see https://github.com/ImagingDataCommons/IDC-Tutorials/blob/master/notebooks/getting_started/part2_searching_basics.ipynb to learn about using `idc-index`"
      ],
      "metadata": {
        "id": "SY0MuYztZhoR"
      }
    },
    {
      "cell_type": "markdown",
      "source": [
        "# Getting started with IDC using `idc-index` python package\n",
        "\n",
        "---\n",
        "\n",
        "\n",
        "## Summary\n",
        "\n",
        "This notebook is introducing NCI Imaging Data Commons to the users who want to interact with IDC programmatically using [`idc-index` python package](https://github.com/ImagingDataCommons/idc-index).\n",
        "\n",
        "In this notebook you will be introduced into how IDC organizes the metadata accompanying images available in IDC, and how that metadata can be used to define subsets of data. This documentation page complements this notebook with the more detailed discussion of the metadata organization in IDC: https://learn.canceridc.dev/data/organization-of-data/files-and-metadata.\n",
        "\n",
        "Please note that it is important that you run each cell of this notebook in sequence the first time you go over the notebook. Out of order execution may result in runtime errors.\n",
        "\n",
        "---\n",
        "Initial version: Nov 2023\n",
        "\n",
        "## What is IDC?\n",
        "\n",
        "NCI Imaging Data Commons (IDC) is a cloud-based environment containing publicly available cancer imaging data co-located with the analysis and exploration tools and resources. IDC is a node within the broader NCI Cancer Research Data Commons (CRDC) infrastructure that provides secure access to a large, comprehensive, and expanding collection of cancer research data.\n",
        "\n",
        "## IDC metadata search: why, what and how\n",
        "\n",
        "**Why?**\n",
        "\n",
        "Think of IDC as a library. Image files are books, and we have ~45 TB of those. When you go to a library, you want to check out just the books that you want to read. In order to find a book in a large library you need a catalog. Without a good catalog it is difficult to make use of a library, or any other resource containing significant amount of information.\n",
        "\n",
        "**What?**\n",
        "\n",
        "Just as in the library, IDC maintains a catalog that indexes a variety of metadata fields describing the files we curate. That metadata catalog is accessible in a large database table that you should be using to search and subset the images. All of the data in IDC is in DICOM format, and DICOM format is all about metadata! A typical DICOM image will contain dozens if not hundreds of attributes describing its content.\n",
        "\n",
        "We extract all of the DICOM attributes, and store the result in a large table, where each row of that table corresponds to a file (and most often, one slice of a CT or MR image corresponds to one DICOM file), and each column corresponds to a metadata attribute. IDC catalog of all the metadata is enormous: as of writing, for IDC release v16, this table contains >42M rows and 869 columns! We will refer to this gigantic catalog as _IDC BigQuery index_ (you can learn how to use this index in another tutorial).\n",
        "\n",
        "The issue is, _IDC BigQuery index_ is very large, requires rather powerful resources to search it, can be intimidating to the novice IDC users, and is not necessary for most common search tasks. This is why we developed a small index of IDC data that contains just a fraction of the metadata attributes. Since this index is small, it can be distributed and searched easily. The downside of course is that you cannot search all of the metadata.\n",
        "\n",
        "We wrapped the IDC \"mini\" index into the `idc-index` python package, which we will be focusing on in this tutorial.\n",
        "\n",
        "**How?**\n",
        "\n",
        "When you search, or _query_ IDC catalog, you specify what criteria should the metadata describing the selected files satisfy.\n",
        "\n",
        "Queries can be as simple as\n",
        "\n",
        "* \"_everything in collection X_\",\n",
        "\n",
        "or as complex as\n",
        "\n",
        "* \"_files corresponding to CT images of female patients that are accompanied by annotations of lung tumors that are larger than 1500 mm^3 in volume_\".\n",
        "\n",
        "Although it would be very nice to just state what you need in free form (and let AI write the query for you - which is becoming more and more feasible - see one such early results in [this preprint](https://arxiv.org/abs/2305.07637)!), in practice most often queries need to be written in a formal way.\n",
        "\n",
        "To query IDC index, you can utilize Standard Query Language (SQL). You can use SQL with both the IDC BigQuery index, and with the IDC \"mini\" index available in the `idc-index` python package.\n",
        "\n",
        "In the following steps of the tutorial we will use just a few of the attributes (SQL table columns) to get started. You will be able to use the same principles and SQL queries to extend your search criteria to include any of the other attributes indexed by IDC."
      ],
      "metadata": {
        "id": "ZrARcsi2quzv"
      }
    },
    {
      "cell_type": "markdown",
      "source": [
        "## Prerequisites\n",
        "\n",
        "Prerequisites for using IDC \"mini\" index are very simple: use `pip` to install the `idc-index` package! In the cell below we use a fixed (currently, latest) version of the package for the sake of reproducibility.\n",
        "\n",
        "Note how we install the specific version of the package. We do this because `idc-index` is in the early stages of development, and its API and capabilities are evolving. By fixing the release version we ensure that the notebook remains functional even if the package API changes in a breaking manner.\n",
        "\n",
        "Once the package is installed, we instantiate `IDCClient` class that is a wrapper around the \"mini\" index."
      ],
      "metadata": {
        "id": "JWx5uZPZ1An4"
      }
    },
    {
      "cell_type": "code",
      "execution_count": null,
      "metadata": {
        "id": "vYpGWiRLUlI_"
      },
      "outputs": [],
      "source": [
        "!pip install idc-index --upgrade\n",
        "\n",
        "from idc_index import index\n",
        "\n",
        "client = index.IDCClient()"
      ]
    },
    {
      "cell_type": "markdown",
      "source": [
        "## First query\n",
        "\n",
        "As the very first query, let's get the list of all the image collections available in IDC. Here is that query:\n",
        "\n",
        "```sql\n",
        "SELECT\n",
        "  DISTINCT(collection_id)\n",
        "FROM\n",
        "  index\n",
        "```\n",
        "\n",
        "Let's look into how this query works:\n",
        "\n",
        "* `SELECT` defines the list of columns that should be returned by the query,\n",
        "* `DISTINCT` indicates that we want to see the distinct values encountered in the selected column,\n",
        "* `FROM` defines which table should be queried. Here, `index` is the internal table availabe within the `idc-index` package.\n",
        "\n",
        "Next, let's execute that query using the `client` instantiated earlier. The `sql_query` function will return a `pandas` `DataFrame` with the result."
      ],
      "metadata": {
        "id": "YgjAiG-z1yiG"
      }
    },
    {
      "cell_type": "code",
      "source": [
        "# formatting is not required, but makes queries easier to read!\n",
        "query = \"\"\"\n",
        "SELECT\n",
        "  DISTINCT(collection_id)\n",
        "FROM\n",
        "  index\n",
        "\"\"\"\n",
        "client.sql_query(query)"
      ],
      "metadata": {
        "id": "9ryNjXYoedLA"
      },
      "execution_count": null,
      "outputs": []
    },
    {
      "cell_type": "markdown",
      "source": [
        "What other attributes are available in this \"mini\" index?"
      ],
      "metadata": {
        "id": "Y0U_z3nj3yVN"
      }
    },
    {
      "cell_type": "code",
      "source": [
        "print(client.index.columns)"
      ],
      "metadata": {
        "id": "RzMqhYys32v8"
      },
      "execution_count": null,
      "outputs": []
    },
    {
      "cell_type": "markdown",
      "source": [
        "## Summarizing the content of the individual collections\n",
        "\n",
        "Before discussing what each of those attributes means, let's consider a bit more complicated query that utilizes the `Modality` and `BodyPartExamined` to create summary of the collections available in IDC.\n",
        "\n",
        "In the query above, we use the familiar operators `SELECT` and `FROM`, but also couple of new ones:\n",
        "\n",
        "* `GROUP BY` in the end of the query indicates that we want to get a single row per the distinct value of the `collection_id`\n",
        "* `STRING_AGG` and `DISTINCT` indicate how the values of the selected columns should be aggregated while combining into single row per collection_id: we take all the distinct values per individual `collection_id`, and the concatenate them into a single string"
      ],
      "metadata": {
        "id": "H1PXl-eqAaTM"
      }
    },
    {
      "cell_type": "code",
      "source": [
        "query = \"\"\"\n",
        "SELECT\n",
        "  collection_id,\n",
        "  STRING_AGG(DISTINCT(Modality)) as modalities,\n",
        "  STRING_AGG(DISTINCT(BodyPartExamined)) as body_parts\n",
        "FROM\n",
        "  index\n",
        "GROUP BY\n",
        "  collection_id\n",
        "ORDER BY\n",
        "  collection_id ASC\n",
        "\"\"\"\n",
        "client.sql_query(query)"
      ],
      "metadata": {
        "id": "ILcdX-wuAv9c"
      },
      "execution_count": null,
      "outputs": []
    },
    {
      "cell_type": "markdown",
      "source": [
        "As you look at the result of the query, consider that ...\n",
        "* `Modality` abbreviations are disambiguated in this part of the standard: https://dicom.nema.org/medical/dicom/current/output/chtml/part03/sect_C.7.3.html#sect_C.7.3.1.1.1\n",
        "* the values of `BodyPartExamined` were curated by IDC to improve conformance to the value set prescribed by the standard (you can see it here: https://dicom.nema.org/medical/dicom/current/output/chtml/part16/chapter_L.html#chapter_L)\n",
        "* Slide Microscopy modality (`SM`) does not use `BodyPartExamined`, and therefore it is expected that the values of this attribute are blank for the slide microscopy collections."
      ],
      "metadata": {
        "id": "fQnpubJcBJrq"
      }
    },
    {
      "cell_type": "markdown",
      "source": [
        "## Selecting collections based on the specific characteristics\n",
        "\n",
        "In the following query, we use several of the attributes in the index to select collections that meet specific search criteria: those that contain MR modality, and have Liver as the body part examined.\n",
        "\n",
        "Note that standard compliant values of `BodyPartExamined` are ALL CAPS! If you wanted to make the search case-insensitive, you could use `UPPER(BodyPartExamined)`."
      ],
      "metadata": {
        "id": "zaMzLYTeCgmE"
      }
    },
    {
      "cell_type": "code",
      "source": [
        "query = \"\"\"\n",
        "SELECT\n",
        "  DISTINCT(collection_id)\n",
        "FROM\n",
        "  index\n",
        "WHERE\n",
        "  Modality = 'MR'\n",
        "  AND BodyPartExamined = 'LIVER'\n",
        "\"\"\"\n",
        "client.sql_query(query)"
      ],
      "metadata": {
        "id": "E_StyrfNCfXx"
      },
      "execution_count": null,
      "outputs": []
    },
    {
      "cell_type": "markdown",
      "source": [
        "## DICOM data model: Patients, studies, series and instances\n",
        "\n",
        "Up to now we searched the data at the granularity of the collections. In practice, we often want to know how many patients meet our search criteria, or what are the specific images that we need to download.\n",
        "\n",
        "IDC is using DICOM for data representation, and in the DICOM data model, patients (identified by `PatientID`) undergo imaging exams (or _studies_, in DICOM nomenclature).\n",
        "\n",
        "Each patient will have one or more studies, with each study identified uniquely by the attribute `StudyInstanceUID`. During each of the imaging studies one or more imaging _series_ will be collected. As an example, a Computed Tomography (CT) imaging study may include a volume sweep before and after administration of the contrast agent. Imaging series are uniqiely identified by `SeriesInstanceUID`.\n",
        "\n",
        "Finally, each imaging series contains one or more _instances_, where each instance corresponds to a file. Most often, one instance corresponds to a single slice from a cross-sectional image. Individual instances are identified by unique `SOPInstanceUID` values.\n",
        "\n",
        "The figure below, borrowed from the DICOM standard [here](http://dicom.nema.org/medical/dicom/current/output/chtml/part03/chapter_7.html), captures the discussed data model.\n",
        "\n",
        "![DICOM data model](https://2103490465-files.gitbook.io/~/files/v0/b/gitbook-x-prod.appspot.com/o/spaces%2F-MCTG4fXybYgGMalZnmf-2668963341%2Fuploads%2Fgit-blob-0f639d56e22ae53a03c2ca59c96306c5db51b158%2FPS3.3_7-1a-DICOM_model.png?alt=media)"
      ],
      "metadata": {
        "id": "yyWbixBTG5Sl"
      }
    },
    {
      "cell_type": "markdown",
      "source": [
        "## `idc-index` organization\n",
        "\n",
        "Having reviewed the DICOM data model, it is time to go over the attributes (columns) included in `idc-index`.\n",
        "\n",
        "But first, it is important to know that **`idc-index` is series-based**, i.e, it has one row per DICOM series. AI analysis is most often performed at the granularity of the individual series, and therefore selection of the series is a task we address with `idc-index`.\n",
        "\n",
        "We \"compressed\" the IDC BigQuery index (which is instance-based) for the sake of efficiency to support basic search capabilities. The convention followed in naming the columns is that every column that is named in CamelCase notation corresponds one-for-one to the DICOM attribute with the same name. Columns starting with a lower-case letter are those that were introduced by the IDC team as part of curation, and do do not fit the DICOM data model. For each of those series our \"mini\" index contains the following columns.\n",
        "\n",
        "* non-DICOM attributes assigned/curated by IDC:\n",
        "  * `collection_id`: short string with the identifier of the collection the series belongs to\n",
        "  * `analysis_result_id`: this string is not empty if the specific series is part of an analysis results collection; analysis results can be added to a given collection over time\n",
        "  * `source_DOI`: Digital Object Identifier of the dataset that contains the given series; note that a given collection can include one or more DOIs, since analysis results added to the collection would typically have independent DOI values!\n",
        "  * `instanceCount`: number of files in the series (typically, this matches the number of slices in cross-sectional modalities)\n",
        "  * `license_short_name`: short name of the license that governs the use of the files corresponding to the series\n",
        "  * `series_aws_url`: location of the series files in a public AWS bucket\n",
        "  * `series_size_MB`: total disk size needed to store the series\n",
        "* DICOM attributes extracted from the files\n",
        "  * `PatientID`: identifier of the patient\n",
        "  * `PatientAge` and `PatientSex`: attributes containing patient age and sex\n",
        "  * `StudyInstanceUID`: unique identifier of the DICOM study\n",
        "  * `StudyDescription`: textual description of the study content\n",
        "  * `StudyDate`: date of the study (note that those dates are shifted, and are not real dates when images were acquired, to protect patient privacy)\n",
        "  * `SeriesInstanceUID`: unique identifier of the DICOM series\n",
        "  * `SeriesDate`: date when the series was acquired\n",
        "  * `SeriesDescription`: textual description of the series content\n",
        "  * `SeriesNumber`: series number\n",
        "  * `BodyPartExamined`: body part imaged\n",
        "  * `Modality`: acquisition modality\n",
        "  * `Manufacturer`: manufacturer of the equipment that generated the series\n",
        "  * `ManufacturerModelName`: model name of the equipment\n",
        "\n",
        "  Similar to how we searched collections, we can filter suitable DICOM series with SQL queries. In the following query we search for MR series that have \"PROSTATE\" as the `BodyPartExamined`, and list the collections that contain those series, along with the total number of patients, studies, series count, manufacturer values and size on disk in GB.\n"
      ],
      "metadata": {
        "id": "GpMyq2pZHGp9"
      }
    },
    {
      "cell_type": "code",
      "source": [
        "selection_query = \"\"\"\n",
        "SELECT\n",
        "  collection_id,\n",
        "  COUNT(DISTINCT(PatientID)) as patient_count,\n",
        "  COUNT(DISTINCT(StudyInstanceUID)) as study_count,\n",
        "  COUNT(DISTINCT(SeriesInstanceUID)) as series_count,\n",
        "  STRING_AGG(DISTINCT(Manufacturer)) as manufacturers,\n",
        "  SUM(series_size_MB)/1000 as total_size_GB\n",
        "FROM\n",
        "  index\n",
        "WHERE\n",
        "  Modality = 'MR'\n",
        "  AND BodyPartExamined = 'PROSTATE'\n",
        "GROUP BY\n",
        "  collection_id\n",
        "ORDER BY\n",
        "  patient_count DESC\n",
        "\"\"\"\n",
        "client.sql_query(selection_query)"
      ],
      "metadata": {
        "id": "yoXTvtYdLku8"
      },
      "execution_count": null,
      "outputs": []
    },
    {
      "cell_type": "markdown",
      "source": [
        "Instead of creating a collection-level summary, we can instead get the list of series that match our selection criteria."
      ],
      "metadata": {
        "id": "e2t05ZcqOdP_"
      }
    },
    {
      "cell_type": "code",
      "source": [
        "selection_query = \"\"\"\n",
        "SELECT\n",
        "  SeriesInstanceUID,\n",
        "  SeriesDescription,\n",
        "  series_aws_url,\n",
        "  license_short_name,\n",
        "  source_DOI\n",
        "FROM\n",
        "  index\n",
        "WHERE\n",
        "  Modality = 'MR'\n",
        "  AND BodyPartExamined = 'PROSTATE'\n",
        "\"\"\"\n",
        "client.sql_query(selection_query)"
      ],
      "metadata": {
        "id": "JHH6jKrvOqt5"
      },
      "execution_count": null,
      "outputs": []
    },
    {
      "cell_type": "markdown",
      "source": [
        "# Key operations with IDC cohorts\n",
        "\n",
        "A \"cohort\"? What cohort?\n",
        "\n",
        "In IDC, a _cohort_ is set of objects stored in IDC that share certain characteristics as defined by metadata. In the previous section we defined a query that selects all MR series of the prostate. You can think of that selection as a cohort.\n",
        "\n",
        "We will show you how to download the series in your cohort, but first - let's learn what you can do without having to download anything!"
      ],
      "metadata": {
        "id": "j2iKHj4cPIy-"
      }
    },
    {
      "cell_type": "markdown",
      "source": [
        "## Checking licenses and attribution requirements\n",
        "\n",
        "IDC collects data from various data coordination centers and program. It is important to appreciate that different components of IDC data are covered by different licenses and have attribution requirements that you must follow when using the data!\n",
        "\n",
        "To get information about license check the `license_short_name`. Most of the data in IDC is covered by the CC-BY (Creative Commons By Attribution).\n",
        "\n",
        "\n",
        "To make sure you properly comply with the attribution clause, use `source_DOI`. If we prepend `source_DOI` with \"https://doi.org/\", we will get a URL that you can open to learn more about the dataset that contains the specific series.\n",
        "\n",
        "If you use data from IDC, we would also appreciate if you acknowledge IDC by citing one of the publications below:\n",
        "\n",
        "> Fedorov, A., Longabaugh, W. J. R., Pot, D., Clunie, D. A., Pieper, S. D., Gibbs, D. L., Bridge, C., Herrmann, M. D., Homeyer, A., Lewis, R., Aerts, H. J. W., Krishnaswamy, D., Thiriveedhi, V. K., Ciausu, C., Schacherer, D. P., Bontempi, D., Pihl, T., Wagner, U., Farahani, K., Kim, E. & Kikinis, R. _National Cancer Institute Imaging Data Commons: Toward Transparency, Reproducibility, and Scalability in Imaging Artificial Intelligence_. RadioGraphics (2023). https://doi.org/10.1148/rg.230180"
      ],
      "metadata": {
        "id": "rJMmk2zCP6yC"
      }
    },
    {
      "cell_type": "code",
      "source": [
        "from IPython.display import HTML\n",
        "\n",
        "selection_query = \"\"\"\n",
        "SELECT\n",
        "  SeriesInstanceUID,\n",
        "  SeriesDescription,\n",
        "  series_aws_url,\n",
        "  license_short_name,\n",
        "  CONCAT('https://doi.org/',source_DOI) as source_DOI_URL\n",
        "FROM\n",
        "  index\n",
        "WHERE\n",
        "  Modality = 'MR'\n",
        "  AND BodyPartExamined = 'PROSTATE'\n",
        "\"\"\"\n",
        "df = client.sql_query(selection_query)\n",
        "\n",
        "# make the DOI URL clickable\n",
        "def make_clickable(val):\n",
        "    return '<a href=\"{}\" target=\"_blank\">{}</a>'.format(val,val)\n",
        "\n",
        "df['source_DOI_URL'] = df['source_DOI_URL'].apply(make_clickable)\n",
        "\n",
        "# Display the DataFrame with clickable URLs\n",
        "HTML(df.to_html(escape=False))"
      ],
      "metadata": {
        "id": "jIN4KxzNQcco"
      },
      "execution_count": null,
      "outputs": []
    },
    {
      "cell_type": "markdown",
      "source": [
        "## Visualizing individual series\n",
        "\n",
        "You can easily visualize any of the series in IDC from the convenience of your web browser. Moreover, there are several viewers that are available. Given the information in `idc-index`, all you have to do is build the URL to point the viewers IDC team is maintaining to the specific series of interest.\n",
        "\n",
        "IDC supports visualization using the hosted instances of the following open source viewers:\n",
        "* OHIF Viewer v2 (legacy) and v3 (radiology): https://github.com/OHIF/Viewers\n",
        "* VolView (hosted by Kitware Inc, radiology): https://volview.kitware.com/\n",
        "* Slim (slide microscopy): https://github.com/ImagingDataCommons/slim\n",
        "\n",
        "In the following query we build URLs for each of the series to open those in OHIF v2, OHIF v3 and VolView. We apply extra trick to make the links clickable, and limit the search results to 10 series to make the output more readable.\n",
        "\n",
        "WARNING: Due to a [last-minute bug in `idc-index`](https://github.com/ImagingDataCommons/idc-index/issues/16), VolView URL will not work, but this will be resolved in an upcoming release of `idc-index`."
      ],
      "metadata": {
        "id": "cRKNHg9IRFeY"
      }
    },
    {
      "cell_type": "code",
      "source": [
        "from IPython.display import HTML\n",
        "\n",
        "# remember to use the single quotes ' ' for constant strings!\n",
        "# \" \" will cause error\n",
        "selection_query = \"\"\"\n",
        "SELECT\n",
        "  SeriesDescription,\n",
        "  CONCAT('https://viewer.imaging.datacommons.cancer.gov/viewer/',\n",
        "     StudyInstanceUID,\n",
        "     '?SeriesInstanceUID=',\n",
        "     SeriesInstanceUID) as ohif_v2_url,\n",
        "  CONCAT('https://viewer.imaging.datacommons.cancer.gov/v3/viewer/?StudyInstanceUIDs=',\n",
        "  StudyInstanceUID,\n",
        "  '&SeriesInstanceUID=',\n",
        "  SeriesInstanceUID) as ohif_v3_url,\n",
        "  CONCAT('https://volview.kitware.app/?urls=[',\n",
        "  series_aws_url,\n",
        "  ']') as volview_url\n",
        "FROM\n",
        "  index\n",
        "WHERE\n",
        "  Modality = 'MR'\n",
        "  AND BodyPartExamined = 'PROSTATE'\n",
        "LIMIT\n",
        "  10\n",
        "\"\"\"\n",
        "df = client.sql_query(selection_query)\n",
        "\n",
        "# if you remove `target=\"_blank\"`, the viewer will open directly\n",
        "# in the notebook cell!\n",
        "def make_clickable(val):\n",
        "    return '<a href=\"{}\" target=\"_blank\">{}</a>'.format(val,val)\n",
        "\n",
        "df['ohif_v2_url'] = df['ohif_v2_url'].apply(make_clickable)\n",
        "df['ohif_v3_url'] = df['ohif_v3_url'].apply(make_clickable)\n",
        "df['volview_url'] = df['volview_url'].apply(make_clickable)\n",
        "\n",
        "# Display the DataFrame with clickable URLs\n",
        "HTML(df.to_html(escape=False))"
      ],
      "metadata": {
        "id": "ts899pSWS_2M"
      },
      "execution_count": null,
      "outputs": []
    },
    {
      "cell_type": "markdown",
      "source": [
        "## Downloading the content of the cohort\n",
        "\n",
        "Earlier we mentioned that `series_aws_url` contains the location of the series files in a AWS bucket. Download is as simple as copying the files from the bucket. To perform the download operation, we rely on the open source [`s5cmd` tool](https://github.com/peak/s5cmd), which was installed as part of the `idc-index` package installation. We first prepare `s5cmd` download manifest that contains the list of download commands for all series, and then pass that manifest to a dedicated function.\n",
        "\n",
        "Let's build and save the manifest first."
      ],
      "metadata": {
        "id": "7EIit1SAYpGl"
      }
    },
    {
      "cell_type": "code",
      "source": [
        "downloadDir = '/content/idc_downloads'\n",
        "\n",
        "!rm -rf {downloadDir}\n",
        "!mkdir -p {downloadDir}\n",
        "\n",
        "selection_query = \"\"\"\n",
        "SELECT\n",
        "  CONCAT('cp ',series_aws_url,' /content/idc_downloads') as cp_command\n",
        "FROM\n",
        "  index\n",
        "WHERE\n",
        "  Modality = 'MR'\n",
        "  AND BodyPartExamined = 'PROSTATE'\n",
        "LIMIT\n",
        "  10\n",
        "\"\"\"\n",
        "df = client.sql_query(selection_query)\n",
        "\n",
        "with open('/content/idc_downloads/download_manifest.txt', 'w') as f:\n",
        "  f.write('\\n'.join(df['cp_command']))"
      ],
      "metadata": {
        "id": "PfovXgwzZnrP"
      },
      "execution_count": null,
      "outputs": []
    },
    {
      "cell_type": "code",
      "source": [
        "# examine the content of the manifest\n",
        "!head /content/idc_downloads/download_manifest.txt"
      ],
      "metadata": {
        "id": "ql2whhf35Z_E"
      },
      "execution_count": null,
      "outputs": []
    },
    {
      "cell_type": "code",
      "source": [
        "# efficiently download the files corresponding to the manifest\n",
        "s5cmd_binary = client.s5cmdPath\n",
        "\n",
        "!{s5cmd_binary} --no-sign-request --endpoint-url https://s3.amazonaws.com run /content/idc_downloads/download_manifest.txt"
      ],
      "metadata": {
        "id": "HSKDfAAKdE65",
        "collapsed": true
      },
      "execution_count": null,
      "outputs": []
    },
    {
      "cell_type": "markdown",
      "source": [
        "## Summary\n",
        "\n",
        "After completing this tutorial, you hopefully:\n",
        "* developed basic understanding of the IDC image metadata and its organization\n",
        "* learned about `idc-index` as the tool for searching IDC metadata\n",
        "* are motivated to start experimenting with the SQL interface to select subsets of IDC data at different levels of data model (collection, patient, study, series)\n",
        "* understood how to script download of the data available in IDC\n",
        "\n",
        "If you have any questions about this tutorial, or about searching IDC metadata, please send us an email to support@canceridc.dev or posting your question on [IDC User forum](https://discourse.cancer.dev)!\n",
        "\n",
        "This tutorial barely scratches the surface of what you can do with BigQuery SQL. If you are interested in a comprehensive tutorial about BigQuery SQL, check out this [\"Intro to SQL\" course on Kaggle](https://www.kaggle.com/learn/intro-to-sql)!\n",
        "\n",
        "If you are interested to do a deeper dive into SQL and experiment with IDC BigQuery index, check out the \"original\" [\"Getting Started with IDC\"](https://github.com/ImagingDataCommons/IDC-Tutorials/tree/master/notebooks/getting_started) series that utilizes BigQuery!\n",
        "\n",
        "## Acknowledgments\n",
        "\n",
        "Imaging Data Commons has been funded in whole or in part with Federal funds from the National Cancer Institute, National Institutes of Health, under Task Order No. HHSN26110071 under Contract No. HHSN261201500003l.\n",
        "\n",
        "If you use IDC in your research, please cite the following publication:\n",
        "\n",
        "> Fedorov, A., Longabaugh, W. J. R., Pot, D., Clunie, D. A., Pieper, S. D., Gibbs, D. L., Bridge, C., Herrmann, M. D., Homeyer, A., Lewis, R., Aerts, H. J. W., Krishnaswamy, D., Thiriveedhi, V. K., Ciausu, C., Schacherer, D. P., Bontempi, D., Pihl, T., Wagner, U., Farahani, K., Kim, E. & Kikinis, R. _National Cancer Institute Imaging Data Commons: Toward Transparency, Reproducibility, and Scalability in Imaging Artificial Intelligence_. RadioGraphics (2023). https://doi.org/10.1148/rg.230180"
      ],
      "metadata": {
        "id": "pc60B2JEeuig"
      }
    }
  ],
  "metadata": {
    "language_info": {
      "name": "python"
    },
    "orig_nbformat": 4,
    "colab": {
      "provenance": [],
      "toc_visible": true,
      "include_colab_link": true
    },
    "kernelspec": {
      "name": "python3",
      "display_name": "Python 3"
    }
  },
  "nbformat": 4,
  "nbformat_minor": 0
}